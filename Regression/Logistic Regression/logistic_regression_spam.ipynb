{
 "cells": [
  {
   "cell_type": "markdown",
   "id": "5c050823-cd1b-4156-98ba-15a11a15f933",
   "metadata": {},
   "source": [
    "## importing libraries"
   ]
  },
  {
   "cell_type": "code",
   "execution_count": 48,
   "id": "a1a7e5d5-9c3e-4af8-b41e-65324972e90e",
   "metadata": {},
   "outputs": [
    {
     "name": "stdout",
     "output_type": "stream",
     "text": [
      "Skipping, found downloaded files in \".\\sms-spam-collection-dataset\" (use force=True to force download)\n"
     ]
    },
    {
     "name": "stderr",
     "output_type": "stream",
     "text": [
      "[nltk_data] Downloading package stopwords to\n",
      "[nltk_data]     C:\\Users\\mihir\\AppData\\Roaming\\nltk_data...\n",
      "[nltk_data]   Package stopwords is already up-to-date!\n"
     ]
    }
   ],
   "source": [
    "import numpy as np\n",
    "import pandas as pd\n",
    "import re #regular expressions (regex)\n",
    "import string #will be used to define regex function\n",
    "import nltk #natural language toolkit\n",
    "from nltk.corpus import stopwords\n",
    "import opendatasets as od\n",
    "from sklearn.feature_extraction.text import TfidfVectorizer #Term frequency and Inverse Document frequency (more common words, less importance)\n",
    "from sklearn.model_selection import train_test_split\n",
    "from sklearn.linear_model import LogisticRegression\n",
    "from sklearn.metrics import accuracy_score, precision_score, recall_score, f1_score, confusion_matrix, ConfusionMatrixDisplay\n",
    "\n",
    "nltk.download('stopwords')\n",
    "\n",
    "od.download(\"https://www.kaggle.com/datasets/uciml/sms-spam-collection-dataset\")#kaggle dataset\n"
   ]
  },
  {
   "cell_type": "markdown",
   "id": "e3aa4315-0260-4ba5-9cab-b2d1d1b35c88",
   "metadata": {},
   "source": [
    "## reading the dataset\n",
    "After reading the dataset, we are also selecting the necessary columns: column v1 contains the label (ham or spam) and v2 contains the actual message. After that, we are renaming the columns v1 and v2 to 'label' and 'message' for clarity."
   ]
  },
  {
   "cell_type": "code",
   "execution_count": 50,
   "id": "f6ac035d-298d-4813-b153-66daa26be49a",
   "metadata": {},
   "outputs": [],
   "source": [
    "df = pd.read_csv(\"sms-spam-collection-dataset/spam.csv\", encoding='latin-1')#utf-8 can't handle all the characters\n",
    "df = df[['v1', 'v2']]#taking only what is necessary\n",
    "df.columns = ['label', 'message']#renaming the columns as label (ham or spam) and message"
   ]
  },
  {
   "cell_type": "markdown",
   "id": "da1aef7b-2f85-4ff8-8533-5572c7bef3eb",
   "metadata": {},
   "source": [
    "## convert labels to binary format\n"
   ]
  },
  {
   "cell_type": "code",
   "execution_count": 52,
   "id": "4850582e-4be8-4e3c-88e1-485eb75e7c0f",
   "metadata": {},
   "outputs": [],
   "source": [
    "df['label']=df['label'].map({'ham':0,'spam':1})#ham is not spam(0) and spam is denoted by binary variable 1"
   ]
  },
  {
   "cell_type": "markdown",
   "id": "c4e0a609-5b83-44db-bc88-eded7f48a321",
   "metadata": {},
   "source": [
    "## to preprocess the input- handling punctuation, tokenization, removing stopwords\n",
    "This function preprocesses text data by:\n",
    "- Converting text to lowercase for uniformity.\n",
    "- Removing punctuation using re.sub().\n",
    "- Tokenizing the text by splitting it into words.\n",
    "- Filtering out stopwords (common words like \"the\", \"is\") using NLTK's stopwords.words('english').\n",
    "- Returning the cleaned text as a space-separated string.\n",
    "\n",
    "The processed text is then stored in a new column 'preprocessed', where the preprocessing function is applied to each message"
   ]
  },
  {
   "cell_type": "code",
   "execution_count": 54,
   "id": "962b6f22-064a-4b82-a28b-60708aa5ba0d",
   "metadata": {},
   "outputs": [],
   "source": [
    "def preprocessing(input):\n",
    "    input=input.lower()#lowercase to maintain uniformity\n",
    "    input=re.sub(f\"[{string.punctuation}]\",\"\",input)#in the input, substitute all instances of punctuation by \"\"\n",
    "    words=input.split()#performing tokenization\n",
    "    filtered_words=[]\n",
    "    for word in words:\n",
    "        if word not in stopwords.words('english'):#all those words that are not stopwords are selected\n",
    "            filtered_words.append(word)\n",
    "    words=filtered_words\n",
    "    return \" \".join(words)\n",
    "\n",
    "df['preprocessed']=df['message'].apply(preprocessing)#creating a new columnn for the preprocessed message"
   ]
  },
  {
   "cell_type": "code",
   "execution_count": 55,
   "id": "45ef1e91-ad43-459f-9084-3b54335f9c00",
   "metadata": {},
   "outputs": [
    {
     "data": {
      "text/html": [
       "<div>\n",
       "<style scoped>\n",
       "    .dataframe tbody tr th:only-of-type {\n",
       "        vertical-align: middle;\n",
       "    }\n",
       "\n",
       "    .dataframe tbody tr th {\n",
       "        vertical-align: top;\n",
       "    }\n",
       "\n",
       "    .dataframe thead th {\n",
       "        text-align: right;\n",
       "    }\n",
       "</style>\n",
       "<table border=\"1\" class=\"dataframe\">\n",
       "  <thead>\n",
       "    <tr style=\"text-align: right;\">\n",
       "      <th></th>\n",
       "      <th>message</th>\n",
       "      <th>preprocessed</th>\n",
       "    </tr>\n",
       "  </thead>\n",
       "  <tbody>\n",
       "    <tr>\n",
       "      <th>0</th>\n",
       "      <td>Go until jurong point, crazy.. Available only ...</td>\n",
       "      <td>go jurong point crazy available bugis n great ...</td>\n",
       "    </tr>\n",
       "    <tr>\n",
       "      <th>1</th>\n",
       "      <td>Ok lar... Joking wif u oni...</td>\n",
       "      <td>ok lar joking wif u oni</td>\n",
       "    </tr>\n",
       "    <tr>\n",
       "      <th>2</th>\n",
       "      <td>Free entry in 2 a wkly comp to win FA Cup fina...</td>\n",
       "      <td>free entry 2 wkly comp win fa cup final tkts 2...</td>\n",
       "    </tr>\n",
       "    <tr>\n",
       "      <th>3</th>\n",
       "      <td>U dun say so early hor... U c already then say...</td>\n",
       "      <td>u dun say early hor u c already say</td>\n",
       "    </tr>\n",
       "    <tr>\n",
       "      <th>4</th>\n",
       "      <td>Nah I don't think he goes to usf, he lives aro...</td>\n",
       "      <td>nah dont think goes usf lives around though</td>\n",
       "    </tr>\n",
       "  </tbody>\n",
       "</table>\n",
       "</div>"
      ],
      "text/plain": [
       "                                             message  \\\n",
       "0  Go until jurong point, crazy.. Available only ...   \n",
       "1                      Ok lar... Joking wif u oni...   \n",
       "2  Free entry in 2 a wkly comp to win FA Cup fina...   \n",
       "3  U dun say so early hor... U c already then say...   \n",
       "4  Nah I don't think he goes to usf, he lives aro...   \n",
       "\n",
       "                                        preprocessed  \n",
       "0  go jurong point crazy available bugis n great ...  \n",
       "1                            ok lar joking wif u oni  \n",
       "2  free entry 2 wkly comp win fa cup final tkts 2...  \n",
       "3                u dun say early hor u c already say  \n",
       "4        nah dont think goes usf lives around though  "
      ]
     },
     "execution_count": 55,
     "metadata": {},
     "output_type": "execute_result"
    }
   ],
   "source": [
    "df[['message','preprocessed']].head()"
   ]
  },
  {
   "cell_type": "markdown",
   "id": "b462bd7b-45b8-4110-bc0e-222b401a020e",
   "metadata": {},
   "source": [
    "## converting the preprocessed message to numerical features\n",
    "This code converts preprocessed text into numerical vectors using TF-IDF (Term Frequency-Inverse Document Frequency). TfidfVectorizer() assigns weights to words based on their importance. fit_transform() transforms the text into a sparse matrix."
   ]
  },
  {
   "cell_type": "code",
   "execution_count": 73,
   "id": "5f97b9a1-069c-4916-99db-c826daeecf0c",
   "metadata": {},
   "outputs": [
    {
     "name": "stdout",
     "output_type": "stream",
     "text": [
      "[[0. 0. 0. ... 0. 0. 0.]\n",
      " [0. 0. 0. ... 0. 0. 0.]\n",
      " [0. 0. 0. ... 0. 0. 0.]\n",
      " [0. 0. 0. ... 0. 0. 0.]\n",
      " [0. 0. 0. ... 0. 0. 0.]]\n",
      "0    0\n",
      "1    0\n",
      "2    1\n",
      "3    0\n",
      "4    0\n",
      "Name: label, dtype: int64\n"
     ]
    }
   ],
   "source": [
    "vectorizer = TfidfVectorizer()\n",
    "X = vectorizer.fit_transform(df['preprocessed'])\n",
    "y = df['label']\n",
    "\n",
    "print(X.toarray()[:5])#prints numerical representation of texts\n",
    "print(y.head())#prints the labels"
   ]
  },
  {
   "cell_type": "markdown",
   "id": "2fd71ea4-cb18-4bab-b65c-04aa0edb1f73",
   "metadata": {},
   "source": [
    "## training and testing the logistic regression model"
   ]
  },
  {
   "cell_type": "code",
   "execution_count": 59,
   "id": "89491ba7-aa46-4b84-a91d-53f96918689d",
   "metadata": {},
   "outputs": [],
   "source": [
    "#splitting dataset to training and testing subsets\n",
    "X_train, X_test, y_train, y_test = train_test_split(X, y, test_size=0.2, random_state=21)\n",
    "\n",
    "#model training\n",
    "model = LogisticRegression()\n",
    "model.fit(X_train, y_train)\n",
    "\n",
    "#obtaining predictions\n",
    "y_pred = model.predict(X_test)"
   ]
  },
  {
   "cell_type": "markdown",
   "id": "02aee85c-3d3d-4e0a-8601-7425a24f0733",
   "metadata": {},
   "source": [
    "## visualising the confusion matrix"
   ]
  },
  {
   "cell_type": "code",
   "execution_count": null,
   "id": "0ad81940-efc6-4441-86dd-66ee1d17cfa9",
   "metadata": {},
   "outputs": [
    {
     "data": {
      "text/plain": [
       "<sklearn.metrics._plot.confusion_matrix.ConfusionMatrixDisplay at 0x28b893dd400>"
      ]
     },
     "execution_count": 61,
     "metadata": {},
     "output_type": "execute_result"
    },
    {
     "data": {
      "image/png": "[encoded data removed]",
      "text/plain": [
       "<Figure size 640x480 with 2 Axes>"
      ]
     },
     "metadata": {},
     "output_type": "display_data"
    }
   ],
   "source": [
    "cm=confusion_matrix(y_test,y_pred)\n",
    "disp = ConfusionMatrixDisplay(confusion_matrix=cm, display_labels=['Not Spam', 'Spam'])\n",
    "disp.plot(cmap='Purples')"
   ]
  },
  {
   "cell_type": "markdown",
   "id": "dd9d080a-3b3e-4ffd-96cf-d3f9d2c8620a",
   "metadata": {},
   "source": [
    "## the performance measures\n",
    "- TN: True Negatives (Predicted not spam and it is actually not spam)\n",
    "- TP: True Positives (Predicted spam and it is actually spam)\n",
    "- FP: False Positives (Predicted spam and it is actually not spam)\n",
    "- FN: False Negatives (Predicted not spam and it is actually spam)\n",
    "\n",
    "Here, we can verify the performance measures that are generated by looking at the confusion matrix. \n",
    "- The formula for accuracy is (TP+TN) / (TP+TN+FP+FN) and we can verify the value that is being printed by calculating the accuracy from the confusion matrix. It will be calculated as (98+973)/(98+973+2+42)=(1071)/(1115) = 0.961\n",
    "- Similarly, the formula for precision (P) is (TP) / (TP+FP)\n",
    "- The formula for recall (R) is given by (TP) / (TP+FN)\n",
    "- The F1 score is calculated as (2*P*R) / (P+R)\n",
    "\n",
    "Using these formulae, we can easily verify the value for each performance measure"
   ]
  },
  {
   "cell_type": "code",
   "execution_count": 76,
   "id": "d098797d-3b06-4c01-a99b-50f1ede5f77b",
   "metadata": {},
   "outputs": [
    {
     "name": "stdout",
     "output_type": "stream",
     "text": [
      "Accuracy: 0.961\n",
      "Precision: 0.980\n",
      "Recall: 0.700\n",
      "F1 Score: 0.817\n"
     ]
    }
   ],
   "source": [
    "accuracy = accuracy_score(y_test, y_pred)\n",
    "precision = precision_score(y_test, y_pred)\n",
    "recall = recall_score(y_test, y_pred)\n",
    "f1 = f1_score(y_test, y_pred)\n",
    "\n",
    "print(f\"Accuracy: {accuracy:.3f}\")\n",
    "print(f\"Precision: {precision:.3f}\")\n",
    "print(f\"Recall: {recall:.3f}\")\n",
    "print(f\"F1 Score: {f1:.3f}\")"
   ]
  },
  {
   "cell_type": "code",
   "execution_count": null,
   "id": "1026cff0-f069-4f39-b8f3-283ef973ace3",
   "metadata": {},
   "outputs": [],
   "source": []
  }
 ],
 "metadata": {
  "kernelspec": {
   "display_name": "Python 3 (ipykernel)",
   "language": "python",
   "name": "python3"
  },
  "language_info": {
   "codemirror_mode": {
    "name": "ipython",
    "version": 3
   },
   "file_extension": ".py",
   "mimetype": "text/x-python",
   "name": "python",
   "nbconvert_exporter": "python",
   "pygments_lexer": "ipython3",
   "version": "3.12.4"
  }
 },
 "nbformat": 4,
 "nbformat_minor": 5
}
