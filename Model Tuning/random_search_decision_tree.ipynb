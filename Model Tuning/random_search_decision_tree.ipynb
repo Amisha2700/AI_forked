{
 "cells": [
  {
   "cell_type": "markdown",
   "metadata": {},
   "source": [
    "# **COMPARING HYPERPARAMETER TUNING METHODS**\n",
    "\n",
    "1. Random Search  \n",
    "2. Grid Search  \n",
    "\n",
    "Learning about their **strengths** and **weaknesses**  \n",
    "\n",
    "| **Aspect**          | **Random Search**                                       | **Grid Search**                                     |\n",
    "|---------------------|---------------------------------------------------------|-----------------------------------------------------|\n",
    "| **Type of Search**  | Randomized hyperparameter selection                     | Exhaustive hyperparameter search                   |\n",
    "| **Strengths**       | Faster for large search spaces. Can find good results quickly. | Guarantees finding the best combination (within the grid). |\n",
    "| **Weaknesses**      | No guarantee of finding the absolute best configuration. | Computationally expensive for large parameter spaces. |\n",
    "| **Scalability**     | High (efficient for large search spaces).               | Low (becomes infeasible with too many parameters). |\n"
   ]
  },
  {
   "cell_type": "code",
   "execution_count": null,
   "metadata": {},
   "outputs": [],
   "source": [
    "import time\n",
    "import numpy as np\n",
    "import pandas as pd\n",
    "import matplotlib.pyplot as plt\n",
    "from sklearn.datasets import load_breast_cancer\n",
    "from sklearn.model_selection import train_test_split, RandomizedSearchCV, GridSearchCV\n",
    "from sklearn.tree import DecisionTreeClassifier\n",
    "from sklearn.metrics import accuracy_score\n",
    "from sklearn.ensemble import RandomForestClassifier"
   ]
  },
  {
   "cell_type": "code",
   "execution_count": 13,
   "metadata": {},
   "outputs": [],
   "source": [
    "# Load the dataset\n",
    "data = load_breast_cancer()\n",
    "X, y = data.data, data.target\n",
    "#Split it into training (80%) and testing (20%) data.\n",
    "X_train, X_test, y_train, y_test = train_test_split(X, y, test_size=0.2, random_state=42)"
   ]
  },
  {
   "cell_type": "code",
   "execution_count": 14,
   "metadata": {},
   "outputs": [
    {
     "name": "stdout",
     "output_type": "stream",
     "text": [
      "Default Decision Tree Accuracy: 0.9474\n"
     ]
    }
   ],
   "source": [
    "# Train Decision Tree with default parameters\n",
    "# This code trains a Decision Tree Classifier with default parameters and evaluates its accuracy\n",
    "default_tree = DecisionTreeClassifier(random_state=42)\n",
    "default_tree.fit(X_train, y_train)\n",
    "y_pred_default = default_tree.predict(X_test)\n",
    "default_accuracy = accuracy_score(y_test, y_pred_default)\n",
    "\n",
    "print(f\"Default Decision Tree Accuracy: {default_accuracy:.4f}\")"
   ]
  },
  {
   "cell_type": "markdown",
   "metadata": {},
   "source": [
    "A hyperparameter search space is a range of values that we define for different hyperparameters of a machine learning model. This allows algorithms like Random Search or Grid Search to explore different configurations and find the best one."
   ]
  },
  {
   "cell_type": "code",
   "execution_count": 15,
   "metadata": {},
   "outputs": [],
   "source": [
    "#hyperparameter search \n",
    "# This defines a dictionary (param_dist) with three hyperparameters for tuning\n",
    "param_dist = {\n",
    "    'max_depth': np.arange(1, 20),\n",
    "    'min_samples_split': np.arange(2, 20),\n",
    "    'min_samples_leaf': np.arange(1, 20)\n",
    "}\n",
    "# Goal: Improve accuracy while avoiding overfitting or underfitting."
   ]
  },
  {
   "cell_type": "markdown",
   "metadata": {},
   "source": [
    "## RANDOM SEARCH"
   ]
  },
  {
   "cell_type": "code",
   "execution_count": 19,
   "metadata": {},
   "outputs": [
    {
     "name": "stdout",
     "output_type": "stream",
     "text": [
      "Random Search Best Parameters: {'min_samples_split': np.int64(13), 'min_samples_leaf': np.int64(1), 'max_depth': np.int64(9)}\n",
      "Random Search Accuracy: 0.9474\n",
      "Random Search Training Time: 2.74 seconds\n"
     ]
    }
   ],
   "source": [
    "# Random Search CV\n",
    "random_search = RandomizedSearchCV(\n",
    "    DecisionTreeClassifier(random_state=42),\n",
    "    param_distributions=param_dist,\n",
    "    n_iter=50,\n",
    "    cv=5,\n",
    "    scoring='accuracy',\n",
    "    random_state=42,\n",
    "    n_jobs=-1\n",
    ")\n",
    "\n",
    "start_time = time.time()\n",
    "random_search.fit(X_train, y_train)\n",
    "random_time = time.time() - start_time\n",
    "\n",
    "y_pred_random = random_search.best_estimator_.predict(X_test)\n",
    "random_accuracy = accuracy_score(y_test, y_pred_random)\n",
    "\n",
    "print(f\"Random Search Best Parameters: {random_search.best_params_}\")\n",
    "print(f\"Random Search Accuracy: {random_accuracy:.4f}\")\n",
    "print(f\"Random Search Training Time: {random_time:.2f} seconds\")"
   ]
  },
  {
   "cell_type": "markdown",
   "metadata": {},
   "source": [
    "## GRID SEARCH"
   ]
  },
  {
   "cell_type": "code",
   "execution_count": 20,
   "metadata": {},
   "outputs": [
    {
     "name": "stdout",
     "output_type": "stream",
     "text": [
      "Grid Search Best Parameters: {'max_depth': 3, 'min_samples_leaf': 5, 'min_samples_split': 2}\n",
      "Grid Search Accuracy: 0.9474\n",
      "Grid Search Training Time: 0.20 seconds\n"
     ]
    }
   ],
   "source": [
    "#grid search\n",
    "param_grid = {\n",
    "    'max_depth': [3, 5, 10, 15],\n",
    "    'min_samples_split': [2, 5, 10],\n",
    "    'min_samples_leaf': [1, 5, 10]\n",
    "}\n",
    "\n",
    "grid_search = GridSearchCV(\n",
    "    DecisionTreeClassifier(random_state=42),\n",
    "    param_grid=param_grid,\n",
    "    cv=5,\n",
    "    scoring='accuracy',\n",
    "    n_jobs=-1\n",
    ")\n",
    "\n",
    "start_time = time.time()\n",
    "grid_search.fit(X_train, y_train)\n",
    "grid_time = time.time() - start_time\n",
    "\n",
    "y_pred_grid = grid_search.best_estimator_.predict(X_test)\n",
    "grid_accuracy = accuracy_score(y_test, y_pred_grid)\n",
    "\n",
    "print(f\"Grid Search Best Parameters: {grid_search.best_params_}\")\n",
    "print(f\"Grid Search Accuracy: {grid_accuracy:.4f}\")\n",
    "print(f\"Grid Search Training Time: {grid_time:.2f} seconds\")"
   ]
  },
  {
   "cell_type": "markdown",
   "metadata": {},
   "source": [
    "1. **Random Search** uses `param_distributions` and `n_iter` (number of random trials).\n",
    "2. **Grid Search** uses `param_grid` and tests all combinations exhaustively.\n",
    "3. **Random Search** is faster but less thorough, while **Grid Search** ensures optimal tuning but is time-intensive.\n",
    "\n",
    "**Bottom Line:** Use **Random Search** when you have a large parameter space, and **Grid Search** when you need precise tuning within a small range!"
   ]
  },
  {
   "cell_type": "code",
   "execution_count": 11,
   "metadata": {},
   "outputs": [
    {
     "name": "stdout",
     "output_type": "stream",
     "text": [
      "          Method  Accuracy  Training Time (s)\n",
      "0        Default  0.947368           0.000000\n",
      "1  Random Search  0.947368           3.987993\n",
      "2    Grid Search  0.947368           0.242112\n"
     ]
    }
   ],
   "source": [
    "# Compare results\n",
    "results = pd.DataFrame({\n",
    "    'Method': ['Default', 'Random Search', 'Grid Search'],\n",
    "    'Accuracy': [default_accuracy, random_accuracy, grid_accuracy],\n",
    "    'Training Time (s)': [0, random_time, grid_time]\n",
    "})\n",
    "print(results)"
   ]
  },
  {
   "cell_type": "code",
   "execution_count": 12,
   "metadata": {},
   "outputs": [
    {
     "data": {
      "image/png": "[encoded data removed]",
      "text/plain": [
       "<Figure size 800x500 with 1 Axes>"
      ]
     },
     "metadata": {},
     "output_type": "display_data"
    }
   ],
   "source": [
    "# Plot results\n",
    "plt.figure(figsize=(8, 5))\n",
    "plt.bar(results['Method'], results['Accuracy'], color=['blue', 'orange', 'green'])\n",
    "plt.xlabel('Method')\n",
    "plt.ylabel('Accuracy')\n",
    "plt.title('Comparison of Hyperparameter Tuning Methods')\n",
    "plt.ylim(0.9, 1)\n",
    "plt.show()"
   ]
  },
  {
   "cell_type": "markdown",
   "metadata": {},
   "source": [
    "The bar chart compares the accuracy of three different hyperparameter tuning methods:\n",
    "\n",
    "- **Default**: Uses the default hyperparameters of the Decision Tree model.\n",
    "- **Random Search**: Randomly selects hyperparameters from a predefined distribution.\n",
    "- **Grid Search**: Exhaustively searches a predefined set of hyperparameters.\n",
    "\n",
    "🔹 **Key Insight**:\n",
    "Both Random Search and Grid Search improve model accuracy over the default setting, but their performance is nearly identical in this case. The choice between them often depends on computational efficiency, with Random Search being faster for large parameter spaces.\n",
    "\n",
    "The comparison shows that hyperparameter tuning (Random Search & Grid Search) did not significantly improve accuracy over the default Decision Tree (94-95%). This suggests that the default settings work well for this dataset, and tuning these specific parameters had little impact. However, training time may differ between methods.\n"
   ]
  }
 ],
 "metadata": {
  "kernelspec": {
   "display_name": "Python 3",
   "language": "python",
   "name": "python3"
  },
  "language_info": {
   "codemirror_mode": {
    "name": "ipython",
    "version": 3
   },
   "file_extension": ".py",
   "mimetype": "text/x-python",
   "name": "python",
   "nbconvert_exporter": "python",
   "pygments_lexer": "ipython3",
   "version": "3.13.2"
  }
 },
 "nbformat": 4,
 "nbformat_minor": 2
}
