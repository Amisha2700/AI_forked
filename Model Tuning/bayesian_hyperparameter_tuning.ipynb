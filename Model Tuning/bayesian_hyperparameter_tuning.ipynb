{
 "cells": [
  {
   "cell_type": "markdown",
   "metadata": {},
   "source": [
    "Hyperparameter Tuning using Bayesian Optmization\n"
   ]
  },
  {
   "cell_type": "markdown",
   "metadata": {},
   "source": [
    "Bayesian optimization uses a probabilistic model to predict the performance of different hyperparameter configurations. It then selects configurations that are more likely to lead to improved results, making it an efficient and effective technique."
   ]
  },
  {
   "cell_type": "code",
   "execution_count": 2,
   "metadata": {},
   "outputs": [
    {
     "name": "stdout",
     "output_type": "stream",
     "text": [
      "Requirement already satisfied: scikit-optimize in c:\\users\\hp\\appdata\\local\\programs\\python\\python312\\lib\\site-packages (0.10.2)\n",
      "Requirement already satisfied: optuna in c:\\users\\hp\\appdata\\local\\programs\\python\\python312\\lib\\site-packages (4.2.1)\n",
      "Requirement already satisfied: joblib>=0.11 in c:\\users\\hp\\appdata\\local\\programs\\python\\python312\\lib\\site-packages (from scikit-optimize) (1.4.2)\n",
      "Requirement already satisfied: pyaml>=16.9 in c:\\users\\hp\\appdata\\local\\programs\\python\\python312\\lib\\site-packages (from scikit-optimize) (25.1.0)\n",
      "Requirement already satisfied: numpy>=1.20.3 in c:\\users\\hp\\appdata\\local\\programs\\python\\python312\\lib\\site-packages (from scikit-optimize) (2.0.1)\n",
      "Requirement already satisfied: scipy>=1.1.0 in c:\\users\\hp\\appdata\\local\\programs\\python\\python312\\lib\\site-packages (from scikit-optimize) (1.14.0)\n",
      "Requirement already satisfied: scikit-learn>=1.0.0 in c:\\users\\hp\\appdata\\local\\programs\\python\\python312\\lib\\site-packages (from scikit-optimize) (1.5.1)\n",
      "Requirement already satisfied: packaging>=21.3 in c:\\users\\hp\\appdata\\roaming\\python\\python312\\site-packages (from scikit-optimize) (24.1)\n",
      "Requirement already satisfied: alembic>=1.5.0 in c:\\users\\hp\\appdata\\local\\programs\\python\\python312\\lib\\site-packages (from optuna) (1.15.1)\n",
      "Requirement already satisfied: colorlog in c:\\users\\hp\\appdata\\local\\programs\\python\\python312\\lib\\site-packages (from optuna) (6.9.0)\n",
      "Requirement already satisfied: sqlalchemy>=1.4.2 in c:\\users\\hp\\appdata\\local\\programs\\python\\python312\\lib\\site-packages (from optuna) (2.0.39)\n",
      "Requirement already satisfied: tqdm in c:\\users\\hp\\appdata\\local\\programs\\python\\python312\\lib\\site-packages (from optuna) (4.67.1)\n",
      "Requirement already satisfied: PyYAML in c:\\users\\hp\\appdata\\local\\programs\\python\\python312\\lib\\site-packages (from optuna) (6.0.2)\n",
      "Requirement already satisfied: Mako in c:\\users\\hp\\appdata\\local\\programs\\python\\python312\\lib\\site-packages (from alembic>=1.5.0->optuna) (1.3.9)\n",
      "Requirement already satisfied: typing-extensions>=4.12 in c:\\users\\hp\\appdata\\local\\programs\\python\\python312\\lib\\site-packages (from alembic>=1.5.0->optuna) (4.12.2)\n",
      "Requirement already satisfied: threadpoolctl>=3.1.0 in c:\\users\\hp\\appdata\\local\\programs\\python\\python312\\lib\\site-packages (from scikit-learn>=1.0.0->scikit-optimize) (3.5.0)\n",
      "Requirement already satisfied: greenlet!=0.4.17 in c:\\users\\hp\\appdata\\local\\programs\\python\\python312\\lib\\site-packages (from sqlalchemy>=1.4.2->optuna) (3.1.1)\n",
      "Requirement already satisfied: colorama in c:\\users\\hp\\appdata\\roaming\\python\\python312\\site-packages (from colorlog->optuna) (0.4.6)\n",
      "Requirement already satisfied: MarkupSafe>=0.9.2 in c:\\users\\hp\\appdata\\local\\programs\\python\\python312\\lib\\site-packages (from Mako->alembic>=1.5.0->optuna) (3.0.2)\n"
     ]
    },
    {
     "name": "stderr",
     "output_type": "stream",
     "text": [
      "\n",
      "[notice] A new release of pip is available: 24.2 -> 25.0.1\n",
      "[notice] To update, run: python.exe -m pip install --upgrade pip\n"
     ]
    }
   ],
   "source": [
    "#install dependencies\n",
    "!pip install scikit-optimize optuna\n"
   ]
  },
  {
   "cell_type": "code",
   "execution_count": 25,
   "metadata": {},
   "outputs": [],
   "source": [
    "#import the necessary libraries and the dataset from sklearn.dataset\n",
    "import numpy as np\n",
    "import pandas as pd\n",
    "import optuna\n",
    "from sklearn.model_selection import train_test_split, GridSearchCV, RandomizedSearchCV\n",
    "from sklearn.ensemble import RandomForestClassifier\n",
    "from sklearn.datasets import load_digits #the dataset \n",
    "from sklearn.metrics import accuracy_score\n",
    "from skopt import BayesSearchCV\n",
    "from skopt.space import Integer,Categorical"
   ]
  },
  {
   "cell_type": "code",
   "execution_count": 4,
   "metadata": {},
   "outputs": [],
   "source": [
    "#STEP1 : load the dataset\n",
    "data_set = load_digits()\n",
    "X, y = data_set.data, data_set.target\n",
    "X_train, X_test, y_train, y_test = train_test_split(X, y, test_size=0.3, random_state=42)"
   ]
  },
  {
   "cell_type": "code",
   "execution_count": 5,
   "metadata": {},
   "outputs": [],
   "source": [
    "rf_model = RandomForestClassifier(random_state=42) #defining the model\n",
    "#here this ensemble learning method is used for multiclass classification(digit recognition)"
   ]
  },
  {
   "cell_type": "code",
   "execution_count": null,
   "metadata": {},
   "outputs": [
    {
     "name": "stdout",
     "output_type": "stream",
     "text": [
      "Grid Search Best Params: {'max_depth': 15, 'min_samples_split': 2, 'n_estimators': 50}\n",
      "Grid Search Accuracy: 0.9740740740740741\n"
     ]
    }
   ],
   "source": [
    "# peform hyperparameter tuning with grid search\n",
    "grid_params = {\n",
    "    'n_estimators': [50, 100], # number of decision trees in the Random Forest.\n",
    "    'max_depth': [10, 15, None],   #max depth of each tree\n",
    "    'min_samples_split': [2, 4]  #min samples to split a node.\n",
    "}\n",
    "\n",
    "grid_search = GridSearchCV(rf_model, grid_params, cv=5, n_jobs=-1) #cv stands for cross validation\n",
    "grid_search.fit(X_train, y_train)\n",
    "grid_best_params = grid_search.best_params_\n",
    "grid_best_acc = accuracy_score(y_test, grid_search.best_estimator_.predict(X_test))\n",
    "\n",
    "print(\"Grid Search Best Params:\", grid_best_params)\n",
    "print(\"Grid Search Accuracy:\", grid_best_acc)"
   ]
  },
  {
   "cell_type": "code",
   "execution_count": null,
   "metadata": {},
   "outputs": [
    {
     "name": "stdout",
     "output_type": "stream",
     "text": [
      "Random Search Best Params: {'n_estimators': np.int64(50), 'min_samples_split': np.int64(2), 'max_depth': 15}\n",
      "Random Search Accuracy: 0.9740740740740741\n"
     ]
    }
   ],
   "source": [
    "#now random search\n",
    "random_params = {\n",
    "    'n_estimators': np.arange(50, 150, 50),\n",
    "    'max_depth': [10, 15, None],\n",
    "    'min_samples_split': np.arange(2, 10, 2)\n",
    "}\n",
    "#randomisedSearch: randomly selects a subset of hyperparameter combinations instead of searching exhaustively.\n",
    "random_search = RandomizedSearchCV(rf_model, random_params, n_iter=15, cv=5, n_jobs=-1, random_state=42) \n",
    "random_search.fit(X_train, y_train)\n",
    "random_best_params = random_search.best_params_\n",
    "random_best_acc = accuracy_score(y_test, random_search.best_estimator_.predict(X_test))\n",
    "\n",
    "print(\"Random Search Best Params:\", random_best_params)\n",
    "print(\"Random Search Accuracy:\", random_best_acc)\n"
   ]
  },
  {
   "cell_type": "markdown",
   "metadata": {},
   "source": [
    "Randomised search is faster than grid search as it samples a subset of parameters."
   ]
  },
  {
   "cell_type": "code",
   "execution_count": 21,
   "metadata": {},
   "outputs": [
    {
     "name": "stdout",
     "output_type": "stream",
     "text": [
      "Bayesian Search Best Params: OrderedDict({'max_depth': 25, 'min_samples_split': 4, 'n_estimators': 238})\n",
      "Bayesian Search Accuracy: 0.9740740740740741\n"
     ]
    }
   ],
   "source": [
    "#bayesian optimisation\n",
    "bayesian_params = {\n",
    "    'n_estimators': Integer(50, 250),\n",
    "    'max_depth': Integer(10, 25),\n",
    "    'min_samples_split': Integer(2, 10)\n",
    "}\n",
    "\n",
    "bayesian_search = BayesSearchCV(rf_model, bayesian_params, n_iter=100, n_points=10, cv=5, n_jobs=-1, random_state=42)\n",
    "bayesian_search.fit(X_train, y_train)\n",
    "bayesian_best_params = bayesian_search.best_params_\n",
    "bayesian_best_acc = accuracy_score(y_test, bayesian_search.best_estimator_.predict(X_test))\n",
    "\n",
    "print(\"Bayesian Search Best Params:\", bayesian_best_params)\n",
    "print(\"Bayesian Search Accuracy:\", bayesian_best_acc)\n"
   ]
  },
  {
   "cell_type": "code",
   "execution_count": 22,
   "metadata": {},
   "outputs": [
    {
     "name": "stdout",
     "output_type": "stream",
     "text": [
      "\n",
      "Comparison of Methods:\n",
      "Grid Search: 0.9741\n",
      "Random Search: 0.9759\n",
      "Bayesian Optimization: 0.9741\n"
     ]
    }
   ],
   "source": [
    "#comparing the results\n",
    "results = {\n",
    "    \"Grid Search\": grid_best_acc,\n",
    "    \"Random Search\": random_best_acc,\n",
    "    \"Bayesian Optimization\": bayesian_best_acc\n",
    "}\n",
    "\n",
    "print(\"\\nComparison of Methods:\")\n",
    "for method, acc in results.items():\n",
    "    print(f\"{method}: {acc:.4f}\")"
   ]
  },
  {
   "cell_type": "code",
   "execution_count": null,
   "metadata": {},
   "outputs": [
    {
     "data": {
      "image/png": "[encoded data removed]",
      "text/plain": [
       "<Figure size 800x500 with 1 Axes>"
      ]
     },
     "metadata": {},
     "output_type": "display_data"
    }
   ],
   "source": [
    "#Bar Chart Comparison\n",
    "import matplotlib.pyplot as plt\n",
    "plt.figure(figsize=(8, 5))\n",
    "plt.bar(results.keys(), results.values(), color=['blue', 'green', 'red'])\n",
    "plt.xlabel(\"Hyperparameter Tuning Method\")\n",
    "plt.ylabel(\"Accuracy\")\n",
    "plt.title(\"Comparison of Hyperparameter Tuning Methods\")\n",
    "plt.ylim([min(results.values()) - 0.02, max(results.values()) + 0.02])\n",
    "plt.show()"
   ]
  }
 ],
 "metadata": {
  "kernelspec": {
   "display_name": "Python 3",
   "language": "python",
   "name": "python3"
  },
  "language_info": {
   "codemirror_mode": {
    "name": "ipython",
    "version": 3
   },
   "file_extension": ".py",
   "mimetype": "text/x-python",
   "name": "python",
   "nbconvert_exporter": "python",
   "pygments_lexer": "ipython3",
   "version": "3.12.5"
  }
 },
 "nbformat": 4,
 "nbformat_minor": 2
}
