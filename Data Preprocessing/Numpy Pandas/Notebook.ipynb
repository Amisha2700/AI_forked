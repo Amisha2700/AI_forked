{
 "cells": [
  {
   "cell_type": "code",
   "execution_count": 1,
   "id": "ac75bb5a",
   "metadata": {
    "_cell_guid": "b1076dfc-b9ad-4769-8c92-a6c4dae69d19",
    "_uuid": "8f2839f25d086af736a60e9eeb907d3b93b6e0e5",
    "execution": {
     "iopub.execute_input": "2024-10-10T12:23:10.979124Z",
     "iopub.status.busy": "2024-10-10T12:23:10.978035Z",
     "iopub.status.idle": "2024-10-10T12:23:11.827463Z",
     "shell.execute_reply": "2024-10-10T12:23:11.826063Z"
    },
    "papermill": {
     "duration": 0.871177,
     "end_time": "2024-10-10T12:23:11.830514",
     "exception": false,
     "start_time": "2024-10-10T12:23:10.959337",
     "status": "completed"
    },
    "tags": []
   },
   "outputs": [
    {
     "name": "stdout",
     "output_type": "stream",
     "text": [
      "/kaggle/input/sales-data/sales.csv\n"
     ]
    }
   ],
   "source": [
    "# This Python 3 environment comes with many helpful analytics libraries installed\n",
    "# It is defined by the kaggle/python Docker image: https://github.com/kaggle/docker-python\n",
    "# For example, here's several helpful packages to load\n",
    "\n",
    "import numpy as np # linear algebra\n",
    "import pandas as pd # data processing, CSV file I/O (e.g. pd.read_csv)\n",
    "\n",
    "# Input data files are available in the read-only \"../input/\" directory\n",
    "# For example, running this (by clicking run or pressing Shift+Enter) will list all files under the input directory\n",
    "\n",
    "import os\n",
    "for dirname, _, filenames in os.walk('/kaggle/input'):\n",
    "    for filename in filenames:\n",
    "        print(os.path.join(dirname, filename))\n",
    "\n",
    "# You can write up to 20GB to the current directory (/kaggle/working/) that gets preserved as output when you create a version using \"Save & Run All\" \n",
    "# You can also write temporary files to /kaggle/temp/, but they won't be saved outside of the current session"
   ]
  },
  {
   "cell_type": "code",
   "execution_count": 2,
   "id": "1fd399ed",
   "metadata": {
    "execution": {
     "iopub.execute_input": "2024-10-10T12:23:11.865817Z",
     "iopub.status.busy": "2024-10-10T12:23:11.865250Z",
     "iopub.status.idle": "2024-10-10T12:23:11.871583Z",
     "shell.execute_reply": "2024-10-10T12:23:11.870347Z"
    },
    "papermill": {
     "duration": 0.027732,
     "end_time": "2024-10-10T12:23:11.874507",
     "exception": false,
     "start_time": "2024-10-10T12:23:11.846775",
     "status": "completed"
    },
    "tags": []
   },
   "outputs": [
    {
     "name": "stdout",
     "output_type": "stream",
     "text": [
      "['hello', 2, 3, 4]\n"
     ]
    }
   ],
   "source": [
    "pythonlist =  ['hello',2,3,4]\n",
    "print(pythonlist)"
   ]
  },
  {
   "cell_type": "code",
   "execution_count": 3,
   "id": "a4c40f12",
   "metadata": {
    "execution": {
     "iopub.execute_input": "2024-10-10T12:23:11.908468Z",
     "iopub.status.busy": "2024-10-10T12:23:11.907992Z",
     "iopub.status.idle": "2024-10-10T12:23:11.915942Z",
     "shell.execute_reply": "2024-10-10T12:23:11.914876Z"
    },
    "papermill": {
     "duration": 0.027616,
     "end_time": "2024-10-10T12:23:11.918288",
     "exception": false,
     "start_time": "2024-10-10T12:23:11.890672",
     "status": "completed"
    },
    "tags": []
   },
   "outputs": [
    {
     "data": {
      "text/plain": [
       "list"
      ]
     },
     "execution_count": 3,
     "metadata": {},
     "output_type": "execute_result"
    }
   ],
   "source": [
    "type(pythonlist)"
   ]
  },
  {
   "cell_type": "markdown",
   "id": "1ba1fc67",
   "metadata": {
    "papermill": {
     "duration": 0.015907,
     "end_time": "2024-10-10T12:23:11.950484",
     "exception": false,
     "start_time": "2024-10-10T12:23:11.934577",
     "status": "completed"
    },
    "tags": []
   },
   "source": [
    "so python lists, are like a datatype that can store heterogeneous data , like integers and strings, this is basic python."
   ]
  },
  {
   "cell_type": "markdown",
   "id": "1ab89e72",
   "metadata": {
    "papermill": {
     "duration": 0.016027,
     "end_time": "2024-10-10T12:23:11.982726",
     "exception": false,
     "start_time": "2024-10-10T12:23:11.966699",
     "status": "completed"
    },
    "tags": []
   },
   "source": [
    "now we will use numpy, which is a powerful library that enables you to use mutlidimensional arrays . It allows very efficient use of mathematical operations required for ml algos.\n",
    "\n",
    "NumPy's most useful feature is n-dimensional array object ( aka ndarray)"
   ]
  },
  {
   "cell_type": "code",
   "execution_count": 4,
   "id": "ba75d9a5",
   "metadata": {
    "execution": {
     "iopub.execute_input": "2024-10-10T12:23:12.018542Z",
     "iopub.status.busy": "2024-10-10T12:23:12.017247Z",
     "iopub.status.idle": "2024-10-10T12:23:12.022883Z",
     "shell.execute_reply": "2024-10-10T12:23:12.021792Z"
    },
    "papermill": {
     "duration": 0.025931,
     "end_time": "2024-10-10T12:23:12.025429",
     "exception": false,
     "start_time": "2024-10-10T12:23:11.999498",
     "status": "completed"
    },
    "tags": []
   },
   "outputs": [],
   "source": [
    "import numpy as np"
   ]
  },
  {
   "cell_type": "code",
   "execution_count": 5,
   "id": "00aeba32",
   "metadata": {
    "execution": {
     "iopub.execute_input": "2024-10-10T12:23:12.059797Z",
     "iopub.status.busy": "2024-10-10T12:23:12.059338Z",
     "iopub.status.idle": "2024-10-10T12:23:12.067049Z",
     "shell.execute_reply": "2024-10-10T12:23:12.065838Z"
    },
    "papermill": {
     "duration": 0.028598,
     "end_time": "2024-10-10T12:23:12.070325",
     "exception": false,
     "start_time": "2024-10-10T12:23:12.041727",
     "status": "completed"
    },
    "tags": []
   },
   "outputs": [
    {
     "name": "stdout",
     "output_type": "stream",
     "text": [
      "[22 33 44 55]\n"
     ]
    }
   ],
   "source": [
    "num = np.array([22,33,44,55])\n",
    "print(num)"
   ]
  },
  {
   "cell_type": "code",
   "execution_count": 6,
   "id": "50a779ad",
   "metadata": {
    "execution": {
     "iopub.execute_input": "2024-10-10T12:23:12.106135Z",
     "iopub.status.busy": "2024-10-10T12:23:12.104903Z",
     "iopub.status.idle": "2024-10-10T12:23:12.112142Z",
     "shell.execute_reply": "2024-10-10T12:23:12.111109Z"
    },
    "papermill": {
     "duration": 0.027452,
     "end_time": "2024-10-10T12:23:12.114569",
     "exception": false,
     "start_time": "2024-10-10T12:23:12.087117",
     "status": "completed"
    },
    "tags": []
   },
   "outputs": [
    {
     "data": {
      "text/plain": [
       "numpy.ndarray"
      ]
     },
     "execution_count": 6,
     "metadata": {},
     "output_type": "execute_result"
    }
   ],
   "source": [
    "type(num)"
   ]
  },
  {
   "cell_type": "markdown",
   "id": "ecac24ee",
   "metadata": {
    "papermill": {
     "duration": 0.016805,
     "end_time": "2024-10-10T12:23:12.147846",
     "exception": false,
     "start_time": "2024-10-10T12:23:12.131041",
     "status": "completed"
    },
    "tags": []
   },
   "source": [
    "now we need to know why even we need to use numpy over simple python lists so here are some of the top features that numpy has to offer:\n",
    "\n",
    "it uses less memory.\n",
    "it is faster way faster rather i would say\n",
    "it is much more convenient to use and understand\n",
    "you can refer to this link for numpy documentation : https://numpy.org/doc/\n",
    "\n",
    "https://faculty.washington.edu/otoomet/machinelearning-py/numpy-and-pandas.html - you can also refer to this link for documentation."
   ]
  },
  {
   "cell_type": "code",
   "execution_count": 7,
   "id": "7220656b",
   "metadata": {
    "execution": {
     "iopub.execute_input": "2024-10-10T12:23:12.182823Z",
     "iopub.status.busy": "2024-10-10T12:23:12.182397Z",
     "iopub.status.idle": "2024-10-10T12:23:12.189558Z",
     "shell.execute_reply": "2024-10-10T12:23:12.188445Z"
    },
    "papermill": {
     "duration": 0.027372,
     "end_time": "2024-10-10T12:23:12.192009",
     "exception": false,
     "start_time": "2024-10-10T12:23:12.164637",
     "status": "completed"
    },
    "tags": []
   },
   "outputs": [
    {
     "data": {
      "text/plain": [
       "54"
      ]
     },
     "execution_count": 7,
     "metadata": {},
     "output_type": "execute_result"
    }
   ],
   "source": [
    "import sys\n",
    "sys.getsizeof(pythonlist[0])"
   ]
  },
  {
   "cell_type": "code",
   "execution_count": 8,
   "id": "3ce512b9",
   "metadata": {
    "execution": {
     "iopub.execute_input": "2024-10-10T12:23:12.227139Z",
     "iopub.status.busy": "2024-10-10T12:23:12.226712Z",
     "iopub.status.idle": "2024-10-10T12:23:12.234328Z",
     "shell.execute_reply": "2024-10-10T12:23:12.233154Z"
    },
    "papermill": {
     "duration": 0.028142,
     "end_time": "2024-10-10T12:23:12.236895",
     "exception": false,
     "start_time": "2024-10-10T12:23:12.208753",
     "status": "completed"
    },
    "tags": []
   },
   "outputs": [
    {
     "data": {
      "text/plain": [
       "8"
      ]
     },
     "execution_count": 8,
     "metadata": {},
     "output_type": "execute_result"
    }
   ],
   "source": [
    "num.itemsize"
   ]
  },
  {
   "cell_type": "markdown",
   "id": "56a631cc",
   "metadata": {
    "papermill": {
     "duration": 0.017053,
     "end_time": "2024-10-10T12:23:12.270737",
     "exception": false,
     "start_time": "2024-10-10T12:23:12.253684",
     "status": "completed"
    },
    "tags": []
   },
   "source": [
    "you can see here the numpy function only shows the size of the integer data in bytes- i.e 8 bytes for the integer."
   ]
  },
  {
   "cell_type": "code",
   "execution_count": 9,
   "id": "fce7d609",
   "metadata": {
    "execution": {
     "iopub.execute_input": "2024-10-10T12:23:12.306424Z",
     "iopub.status.busy": "2024-10-10T12:23:12.305970Z",
     "iopub.status.idle": "2024-10-10T12:23:12.315307Z",
     "shell.execute_reply": "2024-10-10T12:23:12.313978Z"
    },
    "papermill": {
     "duration": 0.030301,
     "end_time": "2024-10-10T12:23:12.317929",
     "exception": false,
     "start_time": "2024-10-10T12:23:12.287628",
     "status": "completed"
    },
    "tags": []
   },
   "outputs": [
    {
     "name": "stdout",
     "output_type": "stream",
     "text": [
      "Python Mean: 499.5, Time taken: 0.000077 seconds\n",
      "NumPy Mean: 499.5, Time taken: 0.000175 seconds\n"
     ]
    }
   ],
   "source": [
    "import time\n",
    "import numpy as np\n",
    "\n",
    "python_list = list(range(1000))\n",
    "\n",
    "# Calculate mean using pure Python\n",
    "start_time = time.time()\n",
    "python_mean = sum(python_list) / len(python_list)\n",
    "python_time = time.time() - start_time\n",
    "\n",
    "# Calculate mean using NumPy\n",
    "numpy_array = np.array(python_list)\n",
    "start_time = time.time()\n",
    "numpy_mean = np.mean(numpy_array)\n",
    "numpy_time = time.time() - start_time\n",
    "\n",
    "print(f\"Python Mean: {python_mean}, Time taken: {python_time:.6f} seconds\")\n",
    "print(f\"NumPy Mean: {numpy_mean}, Time taken: {numpy_time:.6f} seconds\")"
   ]
  },
  {
   "cell_type": "markdown",
   "id": "af2ac5a0",
   "metadata": {
    "papermill": {
     "duration": 0.016495,
     "end_time": "2024-10-10T12:23:12.351426",
     "exception": false,
     "start_time": "2024-10-10T12:23:12.334931",
     "status": "completed"
    },
    "tags": []
   },
   "source": [
    "here, the data set is smaller, and python lists seem to be faster than the numpy library , lets experiment this on a larger dataset."
   ]
  },
  {
   "cell_type": "code",
   "execution_count": 10,
   "id": "cafc7fef",
   "metadata": {
    "execution": {
     "iopub.execute_input": "2024-10-10T12:23:12.387278Z",
     "iopub.status.busy": "2024-10-10T12:23:12.386421Z",
     "iopub.status.idle": "2024-10-10T12:23:13.869644Z",
     "shell.execute_reply": "2024-10-10T12:23:13.868251Z"
    },
    "papermill": {
     "duration": 1.504165,
     "end_time": "2024-10-10T12:23:13.872404",
     "exception": false,
     "start_time": "2024-10-10T12:23:12.368239",
     "status": "completed"
    },
    "tags": []
   },
   "outputs": [
    {
     "name": "stdout",
     "output_type": "stream",
     "text": [
      "Python Mean: 4999999.5, Time taken: 0.094644 seconds\n",
      "NumPy Mean: 4999999.5, Time taken: 0.013343 seconds\n"
     ]
    }
   ],
   "source": [
    "import time\n",
    "import numpy as np\n",
    "\n",
    "python_list = list(range(10_000_000))\n",
    "\n",
    "# Calculate mean using pure Python\n",
    "start_time = time.time()\n",
    "python_mean = sum(python_list) / len(python_list)\n",
    "python_time = time.time() - start_time\n",
    "\n",
    "# Calculate mean using NumPy\n",
    "numpy_array = np.array(python_list)\n",
    "start_time = time.time()\n",
    "numpy_mean = np.mean(numpy_array)\n",
    "numpy_time = time.time() - start_time\n",
    "\n",
    "print(f\"Python Mean: {python_mean}, Time taken: {python_time:.6f} seconds\")\n",
    "print(f\"NumPy Mean: {numpy_mean}, Time taken: {numpy_time:.6f} seconds\")"
   ]
  },
  {
   "cell_type": "markdown",
   "id": "d149b5dc",
   "metadata": {
    "papermill": {
     "duration": 0.017631,
     "end_time": "2024-10-10T12:23:13.907297",
     "exception": false,
     "start_time": "2024-10-10T12:23:13.889666",
     "status": "completed"
    },
    "tags": []
   },
   "source": [
    "now if you see, the numpy library does work way faster than the python lists, hence proving why numpy is more efficient for larger datasets."
   ]
  },
  {
   "cell_type": "code",
   "execution_count": 11,
   "id": "b5744d95",
   "metadata": {
    "execution": {
     "iopub.execute_input": "2024-10-10T12:23:13.943575Z",
     "iopub.status.busy": "2024-10-10T12:23:13.943029Z",
     "iopub.status.idle": "2024-10-10T12:23:13.948745Z",
     "shell.execute_reply": "2024-10-10T12:23:13.947418Z"
    },
    "papermill": {
     "duration": 0.026936,
     "end_time": "2024-10-10T12:23:13.951375",
     "exception": false,
     "start_time": "2024-10-10T12:23:13.924439",
     "status": "completed"
    },
    "tags": []
   },
   "outputs": [],
   "source": [
    "b = ([2,3,4,5,6])"
   ]
  },
  {
   "cell_type": "markdown",
   "id": "5f914cb9",
   "metadata": {
    "papermill": {
     "duration": 0.016865,
     "end_time": "2024-10-10T12:23:13.985794",
     "exception": false,
     "start_time": "2024-10-10T12:23:13.968929",
     "status": "completed"
    },
    "tags": []
   },
   "source": [
    "Broadcasting is a mechanism that NumPy uses to allow element-wise operations (such as addition, subtraction, multiplication, etc.) on arrays of different shapes, under certain conditions. For broadcasting to work, the shapes of the arrays involved must be compatible according to the following rules:\n",
    "\n",
    "If the arrays have different numbers of dimensions, the shape of the smaller-dimensional array is padded with ones on its left side. Arrays are compatible if in all dimensions the size of each dimension is either the same, or one of them is 1."
   ]
  },
  {
   "cell_type": "code",
   "execution_count": 12,
   "id": "3777e81c",
   "metadata": {
    "execution": {
     "iopub.execute_input": "2024-10-10T12:23:14.021796Z",
     "iopub.status.busy": "2024-10-10T12:23:14.021326Z",
     "iopub.status.idle": "2024-10-10T12:23:14.031414Z",
     "shell.execute_reply": "2024-10-10T12:23:14.029949Z"
    },
    "papermill": {
     "duration": 0.031165,
     "end_time": "2024-10-10T12:23:14.034065",
     "exception": false,
     "start_time": "2024-10-10T12:23:14.002900",
     "status": "completed"
    },
    "tags": []
   },
   "outputs": [
    {
     "data": {
      "text/plain": [
       "array([24, 36, 48, 61])"
      ]
     },
     "execution_count": 12,
     "metadata": {},
     "output_type": "execute_result"
    }
   ],
   "source": [
    "num2 = np.array([2,3,4,6])\n",
    "num+num2"
   ]
  },
  {
   "cell_type": "markdown",
   "id": "90cf54e7",
   "metadata": {
    "papermill": {
     "duration": 0.016888,
     "end_time": "2024-10-10T12:23:14.068290",
     "exception": false,
     "start_time": "2024-10-10T12:23:14.051402",
     "status": "completed"
    },
    "tags": []
   },
   "source": [
    "Indexing"
   ]
  },
  {
   "cell_type": "code",
   "execution_count": 13,
   "id": "b98051af",
   "metadata": {
    "execution": {
     "iopub.execute_input": "2024-10-10T12:23:14.104479Z",
     "iopub.status.busy": "2024-10-10T12:23:14.104023Z",
     "iopub.status.idle": "2024-10-10T12:23:14.109928Z",
     "shell.execute_reply": "2024-10-10T12:23:14.108842Z"
    },
    "papermill": {
     "duration": 0.027508,
     "end_time": "2024-10-10T12:23:14.112890",
     "exception": false,
     "start_time": "2024-10-10T12:23:14.085382",
     "status": "completed"
    },
    "tags": []
   },
   "outputs": [
    {
     "name": "stdout",
     "output_type": "stream",
     "text": [
      "33\n"
     ]
    }
   ],
   "source": [
    "print(num[1])"
   ]
  },
  {
   "cell_type": "code",
   "execution_count": 14,
   "id": "e05a4ca5",
   "metadata": {
    "execution": {
     "iopub.execute_input": "2024-10-10T12:23:14.150003Z",
     "iopub.status.busy": "2024-10-10T12:23:14.149574Z",
     "iopub.status.idle": "2024-10-10T12:23:14.155693Z",
     "shell.execute_reply": "2024-10-10T12:23:14.154410Z"
    },
    "papermill": {
     "duration": 0.027638,
     "end_time": "2024-10-10T12:23:14.158505",
     "exception": false,
     "start_time": "2024-10-10T12:23:14.130867",
     "status": "completed"
    },
    "tags": []
   },
   "outputs": [
    {
     "name": "stdout",
     "output_type": "stream",
     "text": [
      "44\n"
     ]
    }
   ],
   "source": [
    "print(num[-2])"
   ]
  },
  {
   "cell_type": "code",
   "execution_count": 15,
   "id": "6d868686",
   "metadata": {
    "execution": {
     "iopub.execute_input": "2024-10-10T12:23:14.195705Z",
     "iopub.status.busy": "2024-10-10T12:23:14.195152Z",
     "iopub.status.idle": "2024-10-10T12:23:14.203036Z",
     "shell.execute_reply": "2024-10-10T12:23:14.201635Z"
    },
    "papermill": {
     "duration": 0.029106,
     "end_time": "2024-10-10T12:23:14.205423",
     "exception": false,
     "start_time": "2024-10-10T12:23:14.176317",
     "status": "completed"
    },
    "tags": []
   },
   "outputs": [
    {
     "data": {
      "text/plain": [
       "array([22, 33, 44, 55])"
      ]
     },
     "execution_count": 15,
     "metadata": {},
     "output_type": "execute_result"
    }
   ],
   "source": [
    "num"
   ]
  },
  {
   "cell_type": "markdown",
   "id": "dde05270",
   "metadata": {
    "papermill": {
     "duration": 0.017251,
     "end_time": "2024-10-10T12:23:14.240208",
     "exception": false,
     "start_time": "2024-10-10T12:23:14.222957",
     "status": "completed"
    },
    "tags": []
   },
   "source": [
    "MULTIDIMENSIONAL ARRAYS"
   ]
  },
  {
   "cell_type": "code",
   "execution_count": 16,
   "id": "d73332a8",
   "metadata": {
    "execution": {
     "iopub.execute_input": "2024-10-10T12:23:14.277882Z",
     "iopub.status.busy": "2024-10-10T12:23:14.277417Z",
     "iopub.status.idle": "2024-10-10T12:23:14.285059Z",
     "shell.execute_reply": "2024-10-10T12:23:14.283774Z"
    },
    "papermill": {
     "duration": 0.030011,
     "end_time": "2024-10-10T12:23:14.288309",
     "exception": false,
     "start_time": "2024-10-10T12:23:14.258298",
     "status": "completed"
    },
    "tags": []
   },
   "outputs": [
    {
     "name": "stdout",
     "output_type": "stream",
     "text": [
      "2D Array : [[1 2 3]\n",
      " [4 5 6]\n",
      " [7 8 9]]\n"
     ]
    }
   ],
   "source": [
    "import numpy as np\n",
    "# Create a 2D array (matrix)\n",
    "arr_2d = np.array([[1, 2, 3], [4, 5, 6], [7, 8, 9]])\n",
    "print('2D Array :', arr_2d)"
   ]
  },
  {
   "cell_type": "code",
   "execution_count": 17,
   "id": "563f2018",
   "metadata": {
    "execution": {
     "iopub.execute_input": "2024-10-10T12:23:14.326959Z",
     "iopub.status.busy": "2024-10-10T12:23:14.325805Z",
     "iopub.status.idle": "2024-10-10T12:23:14.419317Z",
     "shell.execute_reply": "2024-10-10T12:23:14.417957Z"
    },
    "papermill": {
     "duration": 0.11538,
     "end_time": "2024-10-10T12:23:14.421880",
     "exception": false,
     "start_time": "2024-10-10T12:23:14.306500",
     "status": "completed"
    },
    "tags": []
   },
   "outputs": [
    {
     "name": "stdout",
     "output_type": "stream",
     "text": [
      "Matrix of Zeros: \n",
      " [[0. 0. 0.]\n",
      " [0. 0. 0.]]\n",
      "\n",
      "Matrix of Ones: \n",
      " [[1. 1. 1.]\n",
      " [1. 1. 1.]\n",
      " [1. 1. 1.]]\n",
      "\n",
      "Random Matrix: \n",
      " [[0.4044116  0.958662   0.44687051]\n",
      " [0.65743504 0.83494937 0.16991731]\n",
      " [0.76093132 0.19722479 0.69585598]]\n",
      "\n",
      "3D Array: \n",
      " [[[9 6 6]\n",
      "  [1 9 7]\n",
      "  [4 1 5]]\n",
      "\n",
      " [[4 9 2]\n",
      "  [9 4 2]\n",
      "  [4 5 3]]]\n",
      "\n",
      "Shape of the 3D array: \n",
      " (2, 3, 3)\n"
     ]
    }
   ],
   "source": [
    "import numpy as np\n",
    "\n",
    "# We can also create arrays using helper functions like:\n",
    "zeros_matrix = np.zeros((2, 3))\n",
    "print('Matrix of Zeros: \\n', zeros_matrix)\n",
    "# This function will print a matrix of dimension 2x3, with each value = 0.\n",
    "print()\n",
    "\n",
    "ones_matrix = np.ones((3, 3))\n",
    "print('Matrix of Ones: \\n', ones_matrix)\n",
    "# This function will print a matrix of dimension 3x3, with each value = 1.\n",
    "print()\n",
    "\n",
    "random_matrix = np.random.random((3, 3))\n",
    "print('Random Matrix: \\n', random_matrix)\n",
    "# This function will print a matrix of dimension 3x3, with each value randomly generated.\n",
    "print()\n",
    "\n",
    "arr_3d = np.random.randint(1, 10, size=(2, 3, 3))\n",
    "print('3D Array: \\n', arr_3d)\n",
    "print()\n",
    "print('Shape of the 3D array: \\n', arr_3d.shape)\n",
    "# If we want to make an n-dimensional array, with each random value in a specific range (for example between 0 to 1 at a space of 10 as shown here)\n",
    "# The shape of the array is (number of layers, number of rows, number of columns) — for example, (2, 3, 3) here."
   ]
  },
  {
   "cell_type": "code",
   "execution_count": 18,
   "id": "10ed68f9",
   "metadata": {
    "execution": {
     "iopub.execute_input": "2024-10-10T12:23:14.460143Z",
     "iopub.status.busy": "2024-10-10T12:23:14.459670Z",
     "iopub.status.idle": "2024-10-10T12:23:14.467210Z",
     "shell.execute_reply": "2024-10-10T12:23:14.465942Z"
    },
    "papermill": {
     "duration": 0.029235,
     "end_time": "2024-10-10T12:23:14.469606",
     "exception": false,
     "start_time": "2024-10-10T12:23:14.440371",
     "status": "completed"
    },
    "tags": []
   },
   "outputs": [
    {
     "name": "stdout",
     "output_type": "stream",
     "text": [
      "Element at (1, 2): 6\n",
      "Element at (1, 1, 1): 4\n"
     ]
    }
   ],
   "source": [
    "#ACCESSING AN ELEMENT IN A MULTIDIMENSIONAL ARRAY\n",
    "import numpy as np\n",
    "element = arr_2d[1, 2] \n",
    "print('Element at (1, 2):', element) \n",
    "#this accesses the element in the 1st row and 2nd column, considering 0-based indexing.\n",
    "\n",
    "element_3d = arr_3d[1, 1, 1]\n",
    "print('Element at (1, 1, 1):', element_3d)\n",
    "#this accesses the element in the 1st row, 1st column and 1st layer, considering\n",
    "#0-based indexing.\n",
    "   "
   ]
  },
  {
   "cell_type": "code",
   "execution_count": 19,
   "id": "aabc4115",
   "metadata": {
    "execution": {
     "iopub.execute_input": "2024-10-10T12:23:14.512033Z",
     "iopub.status.busy": "2024-10-10T12:23:14.511558Z",
     "iopub.status.idle": "2024-10-10T12:23:14.527713Z",
     "shell.execute_reply": "2024-10-10T12:23:14.525884Z"
    },
    "papermill": {
     "duration": 0.044102,
     "end_time": "2024-10-10T12:23:14.533008",
     "exception": false,
     "start_time": "2024-10-10T12:23:14.488906",
     "status": "completed"
    },
    "tags": []
   },
   "outputs": [
    {
     "name": "stdout",
     "output_type": "stream",
     "text": [
      "Sum of arrays:\n",
      " [[ 8 10 12]\n",
      " [14 16 18]]\n",
      "\n",
      "Product of arrays:\n",
      " [[ 7 16 27]\n",
      " [40 55 72]]\n",
      "\n",
      "Sum of each column: [12 15 18]\n",
      "\n",
      "Sum of each row: [ 6 15 24]\n",
      "Dot Product:\n",
      " [[ 50  68]\n",
      " [122 167]]\n",
      "Transpose of Dot Product:\n",
      " [[ 50 122]\n",
      " [ 68 167]]\n"
     ]
    }
   ],
   "source": [
    "#PERFORMING OPERATIONS ON ARRAYS\n",
    "\n",
    "\n",
    "a = np.array([[1, 2, 3], [4, 5, 6]])\n",
    "b = np.array([[7, 8, 9], [10, 11, 12]])\n",
    "\n",
    "#addition of 2 arrays \n",
    "sum_result = a + b\n",
    "print('Sum of arrays:\\n', sum_result)\n",
    "print()\n",
    "\n",
    "# Element-wise multiplication\n",
    "product_result = a * b\n",
    "print('Product of arrays:\\n', product_result)\n",
    "print()\n",
    "\n",
    "# Sum along axis 0 (columns)\n",
    "column_sum = np.sum(arr_2d, axis=0)\n",
    "print('Sum of each column:', column_sum)\n",
    "print()\n",
    "\n",
    "# Sum along axis 1 (rows)\n",
    "row_sum = np.sum(arr_2d, axis=1)\n",
    "print('Sum of each row:', row_sum)\n",
    "\n",
    "# dot product of A and B.\n",
    "dot_product_matrix = np.dot(a, b.T)\n",
    "\n",
    "print(\"Dot Product:\\n\", dot_product_matrix)\n",
    "\n",
    "# transpose of the resulting dot product matrix.\n",
    "transpose_matrix = dot_product_matrix.T\n",
    "print(\"Transpose of Dot Product:\\n\", transpose_matrix)"
   ]
  },
  {
   "cell_type": "code",
   "execution_count": 20,
   "id": "dfdceccd",
   "metadata": {
    "execution": {
     "iopub.execute_input": "2024-10-10T12:23:14.577322Z",
     "iopub.status.busy": "2024-10-10T12:23:14.576236Z",
     "iopub.status.idle": "2024-10-10T12:23:14.585822Z",
     "shell.execute_reply": "2024-10-10T12:23:14.584693Z"
    },
    "papermill": {
     "duration": 0.033803,
     "end_time": "2024-10-10T12:23:14.588409",
     "exception": false,
     "start_time": "2024-10-10T12:23:14.554606",
     "status": "completed"
    },
    "tags": []
   },
   "outputs": [
    {
     "name": "stdout",
     "output_type": "stream",
     "text": [
      "Original 2D array:\n",
      " [[1 2 3]\n",
      " [4 5 6]\n",
      " [7 8 9]]\n",
      "Submatrix:\n",
      " [[1 2]\n",
      " [4 5]]\n",
      "\n",
      "Second row: [4 5 6]\n",
      "\n",
      "Third column: [3 6 9]\n"
     ]
    }
   ],
   "source": [
    "#SLICING IN 2-D ARRAYS\n",
    "import numpy as np\n",
    "\n",
    "arr_2d = np.array([[1, 2, 3], \n",
    "                   [4, 5, 6], \n",
    "                   [7, 8, 9]])\n",
    "\n",
    "print(\"Original 2D array:\\n\", arr_2d)\n",
    "\n",
    "sub_matrix = arr_2d[0:2, 0:2]\n",
    "print(\"Submatrix:\\n\", sub_matrix)\n",
    "print()\n",
    "\n",
    "second_row = arr_2d[1, :]  # prints all columns of row 1\n",
    "print(\"Second row:\", second_row)\n",
    "print()\n",
    "\n",
    "third_column = arr_2d[:, 2]  # Select all rows of column 2\n",
    "print(\"Third column:\", third_column)\n",
    "\n",
    "#TRIVIA QUESTION : HOW WILL YOU USE SLICING TO REVERSE THE MATRIX ?"
   ]
  },
  {
   "cell_type": "code",
   "execution_count": 21,
   "id": "94c43689",
   "metadata": {
    "execution": {
     "iopub.execute_input": "2024-10-10T12:23:14.631860Z",
     "iopub.status.busy": "2024-10-10T12:23:14.630609Z",
     "iopub.status.idle": "2024-10-10T12:23:14.640484Z",
     "shell.execute_reply": "2024-10-10T12:23:14.639316Z"
    },
    "papermill": {
     "duration": 0.036754,
     "end_time": "2024-10-10T12:23:14.643410",
     "exception": false,
     "start_time": "2024-10-10T12:23:14.606656",
     "status": "completed"
    },
    "tags": []
   },
   "outputs": [
    {
     "name": "stdout",
     "output_type": "stream",
     "text": [
      "Matrix with reversed rows:\n",
      " [[7 8 9]\n",
      " [4 5 6]\n",
      " [1 2 3]]\n"
     ]
    }
   ],
   "source": [
    "import numpy as np\n",
    "arr_2d = np.array([[1, 2, 3], \n",
    "                   [4, 5, 6], \n",
    "                   [7, 8, 9]])\n",
    "\n",
    "reversed = arr_2d[::-1, :]\n",
    "print(\"Matrix with reversed rows:\\n\", reversed)\n",
    "#so, to reverse a matrix , we will use the command \"reversed = arr_2d[::-1, :]\" because ::-1 reverses\n",
    "#the rows, while the columns are kept as it is."
   ]
  },
  {
   "cell_type": "code",
   "execution_count": 22,
   "id": "9ececdc8",
   "metadata": {
    "execution": {
     "iopub.execute_input": "2024-10-10T12:23:14.692617Z",
     "iopub.status.busy": "2024-10-10T12:23:14.691199Z",
     "iopub.status.idle": "2024-10-10T12:23:14.703882Z",
     "shell.execute_reply": "2024-10-10T12:23:14.702156Z"
    },
    "papermill": {
     "duration": 0.043388,
     "end_time": "2024-10-10T12:23:14.707108",
     "exception": false,
     "start_time": "2024-10-10T12:23:14.663720",
     "status": "completed"
    },
    "tags": []
   },
   "outputs": [
    {
     "name": "stdout",
     "output_type": "stream",
     "text": [
      "Solution x: [2. 3.]\n"
     ]
    }
   ],
   "source": [
    "#SOLVING LINEAR ALGEBRA EQUATIONS : A.x=B\n",
    "import numpy as np\n",
    "\n",
    "def solve_linear_system(A, b):\n",
    "    x = np.linalg.solve(A, b)\n",
    "    return x\n",
    "A = np.array([[3, 1], [1, 2]])\n",
    "b = np.array([9, 8])\n",
    "\n",
    "x = solve_linear_system(A, b)\n",
    "print(\"Solution x:\", x)"
   ]
  },
  {
   "cell_type": "code",
   "execution_count": 23,
   "id": "a190aa7c",
   "metadata": {
    "execution": {
     "iopub.execute_input": "2024-10-10T12:23:14.760297Z",
     "iopub.status.busy": "2024-10-10T12:23:14.759617Z",
     "iopub.status.idle": "2024-10-10T12:23:14.776644Z",
     "shell.execute_reply": "2024-10-10T12:23:14.775283Z"
    },
    "papermill": {
     "duration": 0.046132,
     "end_time": "2024-10-10T12:23:14.779382",
     "exception": false,
     "start_time": "2024-10-10T12:23:14.733250",
     "status": "completed"
    },
    "tags": []
   },
   "outputs": [
    {
     "name": "stdout",
     "output_type": "stream",
     "text": [
      "Mean of each row: [2. 5. 8.]\n",
      "Standard deviation of each column: [2.44948974 2.44948974 2.44948974]\n",
      "Variance of the entire matrix: 6.666666666666667\n",
      "Median of the entire matrix: 5.0\n",
      "max value is :  9\n",
      "min value is :  1\n"
     ]
    }
   ],
   "source": [
    "#STATISTICAL ANALYSIS USING NUMPY\n",
    "import numpy as np\n",
    "M = np.array([[1, 2, 3], [4, 5, 6], [7, 8, 9]])\n",
    "def statistical_operations(M):\n",
    "    row_means = np.mean(M, axis=1)\n",
    "    column_std_devs = np.std(M, axis=0)\n",
    "    matrix_variance = np.var(M)\n",
    "    matrix_median = np.median(M)\n",
    "\n",
    "    return row_means, column_std_devs, matrix_variance, matrix_median\n",
    "row_means, column_std_devs, matrix_variance, matrix_median = statistical_operations(M)\n",
    "#1. Mean of each row.\n",
    "print(\"Mean of each row:\", row_means)\n",
    "#2. Standard deviation of each column.\n",
    "print(\"Standard deviation of each column:\", column_std_devs)\n",
    "#3. Variance of the entire matrix.\n",
    "print(\"Variance of the entire matrix:\", matrix_variance)\n",
    "#4. Median of the entire matrix.\n",
    "print(\"Median of the entire matrix:\", matrix_median)\n",
    "#5. Max and min values in a matrix.\n",
    "print(\"max value is : \", np.max(M))\n",
    "print(\"min value is : \", np.min(M))"
   ]
  },
  {
   "cell_type": "code",
   "execution_count": null,
   "id": "834a00f4",
   "metadata": {
    "papermill": {
     "duration": 0.018505,
     "end_time": "2024-10-10T12:23:14.816292",
     "exception": false,
     "start_time": "2024-10-10T12:23:14.797787",
     "status": "completed"
    },
    "tags": []
   },
   "outputs": [],
   "source": []
  },
  {
   "cell_type": "markdown",
   "id": "8fab6f34",
   "metadata": {
    "papermill": {
     "duration": 0.022327,
     "end_time": "2024-10-10T12:23:14.860212",
     "exception": false,
     "start_time": "2024-10-10T12:23:14.837885",
     "status": "completed"
    },
    "tags": []
   },
   "source": [
    "                                      LEARNING ABOUT PANDAS LIBRARY"
   ]
  },
  {
   "cell_type": "markdown",
   "id": "37054ad6",
   "metadata": {
    "papermill": {
     "duration": 0.021265,
     "end_time": "2024-10-10T12:23:14.900298",
     "exception": false,
     "start_time": "2024-10-10T12:23:14.879033",
     "status": "completed"
    },
    "tags": []
   },
   "source": [
    "Now 1st concern is that what is pandas and why do we need it? \n",
    "\n",
    "So basically,like numpy, pandas is also another library of python which is one of the most widely used python libraries in data science. \n",
    "It provides high-performance and it is easy to use its structures and data analysis tools.\n",
    "like in numpy we dealt with mutlidimensional arrays, here we deal with 2D TABLE object which is called DATAFRAME. It is like a SPREADHSEET with column names and row labels.\n",
    "\n",
    "Some commonly used data structures in pandas are:\n",
    "Series objects : 1D array, similar to a column in a spreadsheet(created using pd.Series function)\n",
    "DataFrame objects : 2D table, similar to a spreadsheet(Dataframe can be visualized as dictionaries of Series)\n",
    "Panel objects : Dictionary of DataFrames, similar to sheet in MS Excel"
   ]
  },
  {
   "cell_type": "code",
   "execution_count": 24,
   "id": "ba706e12",
   "metadata": {
    "execution": {
     "iopub.execute_input": "2024-10-10T12:23:14.939733Z",
     "iopub.status.busy": "2024-10-10T12:23:14.939293Z",
     "iopub.status.idle": "2024-10-10T12:23:14.944779Z",
     "shell.execute_reply": "2024-10-10T12:23:14.943425Z"
    },
    "papermill": {
     "duration": 0.027918,
     "end_time": "2024-10-10T12:23:14.947290",
     "exception": false,
     "start_time": "2024-10-10T12:23:14.919372",
     "status": "completed"
    },
    "tags": []
   },
   "outputs": [],
   "source": [
    "import pandas as pd"
   ]
  },
  {
   "cell_type": "code",
   "execution_count": 25,
   "id": "9e8a2313",
   "metadata": {
    "execution": {
     "iopub.execute_input": "2024-10-10T12:23:14.986444Z",
     "iopub.status.busy": "2024-10-10T12:23:14.985555Z",
     "iopub.status.idle": "2024-10-10T12:23:14.994119Z",
     "shell.execute_reply": "2024-10-10T12:23:14.992923Z"
    },
    "papermill": {
     "duration": 0.031736,
     "end_time": "2024-10-10T12:23:14.997428",
     "exception": false,
     "start_time": "2024-10-10T12:23:14.965692",
     "status": "completed"
    },
    "tags": []
   },
   "outputs": [
    {
     "name": "stdout",
     "output_type": "stream",
     "text": [
      "0    10\n",
      "1    20\n",
      "2    30\n",
      "3    40\n",
      "4    50\n",
      "dtype: int64\n"
     ]
    }
   ],
   "source": [
    "# series objects\n",
    "series = pd.Series([10, 20, 30, 40, 50])\n",
    "print(series)"
   ]
  },
  {
   "cell_type": "code",
   "execution_count": 26,
   "id": "1304b18b",
   "metadata": {
    "execution": {
     "iopub.execute_input": "2024-10-10T12:23:15.036417Z",
     "iopub.status.busy": "2024-10-10T12:23:15.035959Z",
     "iopub.status.idle": "2024-10-10T12:23:15.051105Z",
     "shell.execute_reply": "2024-10-10T12:23:15.049745Z"
    },
    "papermill": {
     "duration": 0.03804,
     "end_time": "2024-10-10T12:23:15.053957",
     "exception": false,
     "start_time": "2024-10-10T12:23:15.015917",
     "status": "completed"
    },
    "tags": []
   },
   "outputs": [
    {
     "name": "stdout",
     "output_type": "stream",
     "text": [
      "    Name  Age\n",
      "0  Alice   25\n",
      "1    Bob   30\n",
      "2  Iyana   27\n"
     ]
    }
   ],
   "source": [
    "# dataframe objects\n",
    "data = {'Name': ['Alice', 'Bob','Iyana'], 'Age': [25, 30,27]}\n",
    "df = pd.DataFrame(data)\n",
    "print(df)"
   ]
  },
  {
   "cell_type": "markdown",
   "id": "eaf7bd62",
   "metadata": {
    "papermill": {
     "duration": 0.019443,
     "end_time": "2024-10-10T12:23:15.091788",
     "exception": false,
     "start_time": "2024-10-10T12:23:15.072345",
     "status": "completed"
    },
    "tags": []
   },
   "source": [
    "You can refer to the following documentation to explore more about pandas https://pandas.pydata.org/docs/user_guide/index.html"
   ]
  },
  {
   "cell_type": "code",
   "execution_count": 27,
   "id": "cbe97ff3",
   "metadata": {
    "execution": {
     "iopub.execute_input": "2024-10-10T12:23:15.131299Z",
     "iopub.status.busy": "2024-10-10T12:23:15.130309Z",
     "iopub.status.idle": "2024-10-10T12:23:15.144184Z",
     "shell.execute_reply": "2024-10-10T12:23:15.142722Z"
    },
    "papermill": {
     "duration": 0.036489,
     "end_time": "2024-10-10T12:23:15.146862",
     "exception": false,
     "start_time": "2024-10-10T12:23:15.110373",
     "status": "completed"
    },
    "tags": []
   },
   "outputs": [
    {
     "data": {
      "text/html": [
       "<div>\n",
       "<style scoped>\n",
       "    .dataframe tbody tr th:only-of-type {\n",
       "        vertical-align: middle;\n",
       "    }\n",
       "\n",
       "    .dataframe tbody tr th {\n",
       "        vertical-align: top;\n",
       "    }\n",
       "\n",
       "    .dataframe thead th {\n",
       "        text-align: right;\n",
       "    }\n",
       "</style>\n",
       "<table border=\"1\" class=\"dataframe\">\n",
       "  <thead>\n",
       "    <tr style=\"text-align: right;\">\n",
       "      <th></th>\n",
       "      <th>Name</th>\n",
       "      <th>Age</th>\n",
       "    </tr>\n",
       "  </thead>\n",
       "  <tbody>\n",
       "    <tr>\n",
       "      <th>0</th>\n",
       "      <td>Alice</td>\n",
       "      <td>25</td>\n",
       "    </tr>\n",
       "    <tr>\n",
       "      <th>1</th>\n",
       "      <td>Bob</td>\n",
       "      <td>30</td>\n",
       "    </tr>\n",
       "  </tbody>\n",
       "</table>\n",
       "</div>"
      ],
      "text/plain": [
       "    Name  Age\n",
       "0  Alice   25\n",
       "1    Bob   30"
      ]
     },
     "execution_count": 27,
     "metadata": {},
     "output_type": "execute_result"
    }
   ],
   "source": [
    "df.head(2)  #similarly u can use tail"
   ]
  },
  {
   "cell_type": "code",
   "execution_count": 28,
   "id": "6c6c5f7a",
   "metadata": {
    "execution": {
     "iopub.execute_input": "2024-10-10T12:23:15.186946Z",
     "iopub.status.busy": "2024-10-10T12:23:15.185734Z",
     "iopub.status.idle": "2024-10-10T12:23:15.200716Z",
     "shell.execute_reply": "2024-10-10T12:23:15.199363Z"
    },
    "papermill": {
     "duration": 0.037991,
     "end_time": "2024-10-10T12:23:15.203659",
     "exception": false,
     "start_time": "2024-10-10T12:23:15.165668",
     "status": "completed"
    },
    "tags": []
   },
   "outputs": [],
   "source": [
    "data2 = pd.read_csv('/kaggle/input/sales-data/sales.csv')  #Importing a dataset \n"
   ]
  },
  {
   "cell_type": "code",
   "execution_count": 29,
   "id": "0e418e37",
   "metadata": {
    "execution": {
     "iopub.execute_input": "2024-10-10T12:23:15.243452Z",
     "iopub.status.busy": "2024-10-10T12:23:15.242961Z",
     "iopub.status.idle": "2024-10-10T12:23:15.258540Z",
     "shell.execute_reply": "2024-10-10T12:23:15.257355Z"
    },
    "papermill": {
     "duration": 0.038442,
     "end_time": "2024-10-10T12:23:15.261163",
     "exception": false,
     "start_time": "2024-10-10T12:23:15.222721",
     "status": "completed"
    },
    "tags": []
   },
   "outputs": [
    {
     "data": {
      "text/html": [
       "<div>\n",
       "<style scoped>\n",
       "    .dataframe tbody tr th:only-of-type {\n",
       "        vertical-align: middle;\n",
       "    }\n",
       "\n",
       "    .dataframe tbody tr th {\n",
       "        vertical-align: top;\n",
       "    }\n",
       "\n",
       "    .dataframe thead th {\n",
       "        text-align: right;\n",
       "    }\n",
       "</style>\n",
       "<table border=\"1\" class=\"dataframe\">\n",
       "  <thead>\n",
       "    <tr style=\"text-align: right;\">\n",
       "      <th></th>\n",
       "      <th>month_number</th>\n",
       "      <th>facecream</th>\n",
       "      <th>facewash</th>\n",
       "      <th>toothpaste</th>\n",
       "      <th>bathingsoap</th>\n",
       "      <th>shampoo</th>\n",
       "      <th>moisturizer</th>\n",
       "      <th>total_units</th>\n",
       "      <th>total_profit</th>\n",
       "    </tr>\n",
       "  </thead>\n",
       "  <tbody>\n",
       "    <tr>\n",
       "      <th>0</th>\n",
       "      <td>1</td>\n",
       "      <td>2500</td>\n",
       "      <td>1500</td>\n",
       "      <td>5200</td>\n",
       "      <td>9200</td>\n",
       "      <td>1200</td>\n",
       "      <td>1500</td>\n",
       "      <td>21100</td>\n",
       "      <td>211000</td>\n",
       "    </tr>\n",
       "    <tr>\n",
       "      <th>1</th>\n",
       "      <td>2</td>\n",
       "      <td>2630</td>\n",
       "      <td>1200</td>\n",
       "      <td>5100</td>\n",
       "      <td>6100</td>\n",
       "      <td>2100</td>\n",
       "      <td>1200</td>\n",
       "      <td>18330</td>\n",
       "      <td>183300</td>\n",
       "    </tr>\n",
       "    <tr>\n",
       "      <th>2</th>\n",
       "      <td>3</td>\n",
       "      <td>2140</td>\n",
       "      <td>1340</td>\n",
       "      <td>4550</td>\n",
       "      <td>9550</td>\n",
       "      <td>3550</td>\n",
       "      <td>1340</td>\n",
       "      <td>22470</td>\n",
       "      <td>224700</td>\n",
       "    </tr>\n",
       "    <tr>\n",
       "      <th>3</th>\n",
       "      <td>4</td>\n",
       "      <td>3400</td>\n",
       "      <td>1130</td>\n",
       "      <td>5870</td>\n",
       "      <td>8870</td>\n",
       "      <td>1870</td>\n",
       "      <td>1130</td>\n",
       "      <td>22270</td>\n",
       "      <td>222700</td>\n",
       "    </tr>\n",
       "    <tr>\n",
       "      <th>4</th>\n",
       "      <td>5</td>\n",
       "      <td>3600</td>\n",
       "      <td>1740</td>\n",
       "      <td>4560</td>\n",
       "      <td>7760</td>\n",
       "      <td>1560</td>\n",
       "      <td>1740</td>\n",
       "      <td>20960</td>\n",
       "      <td>209600</td>\n",
       "    </tr>\n",
       "    <tr>\n",
       "      <th>5</th>\n",
       "      <td>6</td>\n",
       "      <td>2760</td>\n",
       "      <td>1555</td>\n",
       "      <td>4890</td>\n",
       "      <td>7490</td>\n",
       "      <td>1890</td>\n",
       "      <td>1555</td>\n",
       "      <td>20140</td>\n",
       "      <td>201400</td>\n",
       "    </tr>\n",
       "    <tr>\n",
       "      <th>6</th>\n",
       "      <td>7</td>\n",
       "      <td>2980</td>\n",
       "      <td>1120</td>\n",
       "      <td>4780</td>\n",
       "      <td>8980</td>\n",
       "      <td>1780</td>\n",
       "      <td>1120</td>\n",
       "      <td>29550</td>\n",
       "      <td>295500</td>\n",
       "    </tr>\n",
       "    <tr>\n",
       "      <th>7</th>\n",
       "      <td>8</td>\n",
       "      <td>3700</td>\n",
       "      <td>1400</td>\n",
       "      <td>5860</td>\n",
       "      <td>9960</td>\n",
       "      <td>2860</td>\n",
       "      <td>1400</td>\n",
       "      <td>36140</td>\n",
       "      <td>361400</td>\n",
       "    </tr>\n",
       "    <tr>\n",
       "      <th>8</th>\n",
       "      <td>9</td>\n",
       "      <td>3540</td>\n",
       "      <td>1780</td>\n",
       "      <td>6100</td>\n",
       "      <td>8100</td>\n",
       "      <td>2100</td>\n",
       "      <td>1780</td>\n",
       "      <td>23400</td>\n",
       "      <td>234000</td>\n",
       "    </tr>\n",
       "    <tr>\n",
       "      <th>9</th>\n",
       "      <td>10</td>\n",
       "      <td>1990</td>\n",
       "      <td>1890</td>\n",
       "      <td>8300</td>\n",
       "      <td>10300</td>\n",
       "      <td>2300</td>\n",
       "      <td>1890</td>\n",
       "      <td>26670</td>\n",
       "      <td>266700</td>\n",
       "    </tr>\n",
       "    <tr>\n",
       "      <th>10</th>\n",
       "      <td>11</td>\n",
       "      <td>2340</td>\n",
       "      <td>2100</td>\n",
       "      <td>7300</td>\n",
       "      <td>13300</td>\n",
       "      <td>2400</td>\n",
       "      <td>2100</td>\n",
       "      <td>41280</td>\n",
       "      <td>412800</td>\n",
       "    </tr>\n",
       "    <tr>\n",
       "      <th>11</th>\n",
       "      <td>12</td>\n",
       "      <td>2900</td>\n",
       "      <td>1760</td>\n",
       "      <td>7400</td>\n",
       "      <td>14400</td>\n",
       "      <td>1800</td>\n",
       "      <td>1760</td>\n",
       "      <td>30020</td>\n",
       "      <td>300200</td>\n",
       "    </tr>\n",
       "  </tbody>\n",
       "</table>\n",
       "</div>"
      ],
      "text/plain": [
       "    month_number  facecream  facewash  toothpaste  bathingsoap  shampoo  \\\n",
       "0              1       2500      1500        5200         9200     1200   \n",
       "1              2       2630      1200        5100         6100     2100   \n",
       "2              3       2140      1340        4550         9550     3550   \n",
       "3              4       3400      1130        5870         8870     1870   \n",
       "4              5       3600      1740        4560         7760     1560   \n",
       "5              6       2760      1555        4890         7490     1890   \n",
       "6              7       2980      1120        4780         8980     1780   \n",
       "7              8       3700      1400        5860         9960     2860   \n",
       "8              9       3540      1780        6100         8100     2100   \n",
       "9             10       1990      1890        8300        10300     2300   \n",
       "10            11       2340      2100        7300        13300     2400   \n",
       "11            12       2900      1760        7400        14400     1800   \n",
       "\n",
       "    moisturizer  total_units  total_profit  \n",
       "0          1500        21100        211000  \n",
       "1          1200        18330        183300  \n",
       "2          1340        22470        224700  \n",
       "3          1130        22270        222700  \n",
       "4          1740        20960        209600  \n",
       "5          1555        20140        201400  \n",
       "6          1120        29550        295500  \n",
       "7          1400        36140        361400  \n",
       "8          1780        23400        234000  \n",
       "9          1890        26670        266700  \n",
       "10         2100        41280        412800  \n",
       "11         1760        30020        300200  "
      ]
     },
     "execution_count": 29,
     "metadata": {},
     "output_type": "execute_result"
    }
   ],
   "source": [
    "data2"
   ]
  },
  {
   "cell_type": "code",
   "execution_count": 30,
   "id": "7d0f31d4",
   "metadata": {
    "execution": {
     "iopub.execute_input": "2024-10-10T12:23:15.302933Z",
     "iopub.status.busy": "2024-10-10T12:23:15.301790Z",
     "iopub.status.idle": "2024-10-10T12:23:15.310276Z",
     "shell.execute_reply": "2024-10-10T12:23:15.308891Z"
    },
    "papermill": {
     "duration": 0.032013,
     "end_time": "2024-10-10T12:23:15.312854",
     "exception": false,
     "start_time": "2024-10-10T12:23:15.280841",
     "status": "completed"
    },
    "tags": []
   },
   "outputs": [
    {
     "data": {
      "text/plain": [
       "(12, 9)"
      ]
     },
     "execution_count": 30,
     "metadata": {},
     "output_type": "execute_result"
    }
   ],
   "source": [
    "data2.shape"
   ]
  },
  {
   "cell_type": "code",
   "execution_count": 31,
   "id": "1fec768a",
   "metadata": {
    "execution": {
     "iopub.execute_input": "2024-10-10T12:23:15.353526Z",
     "iopub.status.busy": "2024-10-10T12:23:15.352713Z",
     "iopub.status.idle": "2024-10-10T12:23:15.359746Z",
     "shell.execute_reply": "2024-10-10T12:23:15.358663Z"
    },
    "papermill": {
     "duration": 0.030014,
     "end_time": "2024-10-10T12:23:15.362238",
     "exception": false,
     "start_time": "2024-10-10T12:23:15.332224",
     "status": "completed"
    },
    "tags": []
   },
   "outputs": [
    {
     "data": {
      "text/plain": [
       "pandas.core.frame.DataFrame"
      ]
     },
     "execution_count": 31,
     "metadata": {},
     "output_type": "execute_result"
    }
   ],
   "source": [
    "type(data2)"
   ]
  },
  {
   "cell_type": "code",
   "execution_count": 32,
   "id": "8428e001",
   "metadata": {
    "execution": {
     "iopub.execute_input": "2024-10-10T12:23:15.402983Z",
     "iopub.status.busy": "2024-10-10T12:23:15.402528Z",
     "iopub.status.idle": "2024-10-10T12:23:15.410718Z",
     "shell.execute_reply": "2024-10-10T12:23:15.409643Z"
    },
    "papermill": {
     "duration": 0.031541,
     "end_time": "2024-10-10T12:23:15.413267",
     "exception": false,
     "start_time": "2024-10-10T12:23:15.381726",
     "status": "completed"
    },
    "tags": []
   },
   "outputs": [
    {
     "data": {
      "text/plain": [
       "0     1500\n",
       "1     1200\n",
       "2     1340\n",
       "3     1130\n",
       "4     1740\n",
       "5     1555\n",
       "6     1120\n",
       "7     1400\n",
       "8     1780\n",
       "9     1890\n",
       "10    2100\n",
       "11    1760\n",
       "Name: facewash, dtype: int64"
      ]
     },
     "execution_count": 32,
     "metadata": {},
     "output_type": "execute_result"
    }
   ],
   "source": [
    "data2['facewash']  # prints that column"
   ]
  },
  {
   "cell_type": "code",
   "execution_count": 33,
   "id": "aad369bf",
   "metadata": {
    "execution": {
     "iopub.execute_input": "2024-10-10T12:23:15.455109Z",
     "iopub.status.busy": "2024-10-10T12:23:15.454035Z",
     "iopub.status.idle": "2024-10-10T12:23:15.461721Z",
     "shell.execute_reply": "2024-10-10T12:23:15.460621Z"
    },
    "papermill": {
     "duration": 0.030992,
     "end_time": "2024-10-10T12:23:15.464220",
     "exception": false,
     "start_time": "2024-10-10T12:23:15.433228",
     "status": "completed"
    },
    "tags": []
   },
   "outputs": [
    {
     "data": {
      "text/plain": [
       "1200"
      ]
     },
     "execution_count": 33,
     "metadata": {},
     "output_type": "execute_result"
    }
   ],
   "source": [
    "data2['facewash'][1]  # gives value at name column and 1 index"
   ]
  },
  {
   "cell_type": "code",
   "execution_count": 34,
   "id": "619d4f8f",
   "metadata": {
    "execution": {
     "iopub.execute_input": "2024-10-10T12:23:15.506242Z",
     "iopub.status.busy": "2024-10-10T12:23:15.504897Z",
     "iopub.status.idle": "2024-10-10T12:23:15.512711Z",
     "shell.execute_reply": "2024-10-10T12:23:15.511577Z"
    },
    "papermill": {
     "duration": 0.031334,
     "end_time": "2024-10-10T12:23:15.515138",
     "exception": false,
     "start_time": "2024-10-10T12:23:15.483804",
     "status": "completed"
    },
    "tags": []
   },
   "outputs": [
    {
     "data": {
      "text/plain": [
       "pandas.core.series.Series"
      ]
     },
     "execution_count": 34,
     "metadata": {},
     "output_type": "execute_result"
    }
   ],
   "source": [
    "type(data2['facewash'])"
   ]
  },
  {
   "cell_type": "code",
   "execution_count": 35,
   "id": "d619a466",
   "metadata": {
    "execution": {
     "iopub.execute_input": "2024-10-10T12:23:15.558133Z",
     "iopub.status.busy": "2024-10-10T12:23:15.557667Z",
     "iopub.status.idle": "2024-10-10T12:23:15.584251Z",
     "shell.execute_reply": "2024-10-10T12:23:15.582726Z"
    },
    "papermill": {
     "duration": 0.051983,
     "end_time": "2024-10-10T12:23:15.586849",
     "exception": false,
     "start_time": "2024-10-10T12:23:15.534866",
     "status": "completed"
    },
    "tags": []
   },
   "outputs": [
    {
     "name": "stdout",
     "output_type": "stream",
     "text": [
      "<class 'pandas.core.frame.DataFrame'>\n",
      "RangeIndex: 12 entries, 0 to 11\n",
      "Data columns (total 9 columns):\n",
      " #   Column        Non-Null Count  Dtype\n",
      "---  ------        --------------  -----\n",
      " 0   month_number  12 non-null     int64\n",
      " 1   facecream     12 non-null     int64\n",
      " 2   facewash      12 non-null     int64\n",
      " 3   toothpaste    12 non-null     int64\n",
      " 4   bathingsoap   12 non-null     int64\n",
      " 5   shampoo       12 non-null     int64\n",
      " 6   moisturizer   12 non-null     int64\n",
      " 7   total_units   12 non-null     int64\n",
      " 8   total_profit  12 non-null     int64\n",
      "dtypes: int64(9)\n",
      "memory usage: 992.0 bytes\n"
     ]
    }
   ],
   "source": [
    "data2.info() \n",
    "# it provides concise summary of the data"
   ]
  },
  {
   "cell_type": "code",
   "execution_count": 36,
   "id": "8ea44d12",
   "metadata": {
    "execution": {
     "iopub.execute_input": "2024-10-10T12:23:15.628921Z",
     "iopub.status.busy": "2024-10-10T12:23:15.627903Z",
     "iopub.status.idle": "2024-10-10T12:23:15.666606Z",
     "shell.execute_reply": "2024-10-10T12:23:15.665423Z"
    },
    "papermill": {
     "duration": 0.062412,
     "end_time": "2024-10-10T12:23:15.669119",
     "exception": false,
     "start_time": "2024-10-10T12:23:15.606707",
     "status": "completed"
    },
    "tags": []
   },
   "outputs": [
    {
     "data": {
      "text/html": [
       "<div>\n",
       "<style scoped>\n",
       "    .dataframe tbody tr th:only-of-type {\n",
       "        vertical-align: middle;\n",
       "    }\n",
       "\n",
       "    .dataframe tbody tr th {\n",
       "        vertical-align: top;\n",
       "    }\n",
       "\n",
       "    .dataframe thead th {\n",
       "        text-align: right;\n",
       "    }\n",
       "</style>\n",
       "<table border=\"1\" class=\"dataframe\">\n",
       "  <thead>\n",
       "    <tr style=\"text-align: right;\">\n",
       "      <th></th>\n",
       "      <th>month_number</th>\n",
       "      <th>facecream</th>\n",
       "      <th>facewash</th>\n",
       "      <th>toothpaste</th>\n",
       "      <th>bathingsoap</th>\n",
       "      <th>shampoo</th>\n",
       "      <th>moisturizer</th>\n",
       "      <th>total_units</th>\n",
       "      <th>total_profit</th>\n",
       "    </tr>\n",
       "  </thead>\n",
       "  <tbody>\n",
       "    <tr>\n",
       "      <th>count</th>\n",
       "      <td>12.000000</td>\n",
       "      <td>12.000000</td>\n",
       "      <td>12.000000</td>\n",
       "      <td>12.000000</td>\n",
       "      <td>12.000000</td>\n",
       "      <td>12.000000</td>\n",
       "      <td>12.000000</td>\n",
       "      <td>12.00000</td>\n",
       "      <td>12.000000</td>\n",
       "    </tr>\n",
       "    <tr>\n",
       "      <th>mean</th>\n",
       "      <td>6.500000</td>\n",
       "      <td>2873.333333</td>\n",
       "      <td>1542.916667</td>\n",
       "      <td>5825.833333</td>\n",
       "      <td>9500.833333</td>\n",
       "      <td>2117.500000</td>\n",
       "      <td>1542.916667</td>\n",
       "      <td>26027.50000</td>\n",
       "      <td>260275.000000</td>\n",
       "    </tr>\n",
       "    <tr>\n",
       "      <th>std</th>\n",
       "      <td>3.605551</td>\n",
       "      <td>584.595172</td>\n",
       "      <td>316.733745</td>\n",
       "      <td>1242.032486</td>\n",
       "      <td>2348.095779</td>\n",
       "      <td>617.724931</td>\n",
       "      <td>316.733745</td>\n",
       "      <td>7014.36594</td>\n",
       "      <td>70143.659404</td>\n",
       "    </tr>\n",
       "    <tr>\n",
       "      <th>min</th>\n",
       "      <td>1.000000</td>\n",
       "      <td>1990.000000</td>\n",
       "      <td>1120.000000</td>\n",
       "      <td>4550.000000</td>\n",
       "      <td>6100.000000</td>\n",
       "      <td>1200.000000</td>\n",
       "      <td>1120.000000</td>\n",
       "      <td>18330.00000</td>\n",
       "      <td>183300.000000</td>\n",
       "    </tr>\n",
       "    <tr>\n",
       "      <th>25%</th>\n",
       "      <td>3.750000</td>\n",
       "      <td>2460.000000</td>\n",
       "      <td>1305.000000</td>\n",
       "      <td>4862.500000</td>\n",
       "      <td>8015.000000</td>\n",
       "      <td>1795.000000</td>\n",
       "      <td>1305.000000</td>\n",
       "      <td>21065.00000</td>\n",
       "      <td>210650.000000</td>\n",
       "    </tr>\n",
       "    <tr>\n",
       "      <th>50%</th>\n",
       "      <td>6.500000</td>\n",
       "      <td>2830.000000</td>\n",
       "      <td>1527.500000</td>\n",
       "      <td>5530.000000</td>\n",
       "      <td>9090.000000</td>\n",
       "      <td>1995.000000</td>\n",
       "      <td>1527.500000</td>\n",
       "      <td>22935.00000</td>\n",
       "      <td>229350.000000</td>\n",
       "    </tr>\n",
       "    <tr>\n",
       "      <th>75%</th>\n",
       "      <td>9.250000</td>\n",
       "      <td>3435.000000</td>\n",
       "      <td>1765.000000</td>\n",
       "      <td>6400.000000</td>\n",
       "      <td>10045.000000</td>\n",
       "      <td>2325.000000</td>\n",
       "      <td>1765.000000</td>\n",
       "      <td>29667.50000</td>\n",
       "      <td>296675.000000</td>\n",
       "    </tr>\n",
       "    <tr>\n",
       "      <th>max</th>\n",
       "      <td>12.000000</td>\n",
       "      <td>3700.000000</td>\n",
       "      <td>2100.000000</td>\n",
       "      <td>8300.000000</td>\n",
       "      <td>14400.000000</td>\n",
       "      <td>3550.000000</td>\n",
       "      <td>2100.000000</td>\n",
       "      <td>41280.00000</td>\n",
       "      <td>412800.000000</td>\n",
       "    </tr>\n",
       "  </tbody>\n",
       "</table>\n",
       "</div>"
      ],
      "text/plain": [
       "       month_number    facecream     facewash   toothpaste   bathingsoap  \\\n",
       "count     12.000000    12.000000    12.000000    12.000000     12.000000   \n",
       "mean       6.500000  2873.333333  1542.916667  5825.833333   9500.833333   \n",
       "std        3.605551   584.595172   316.733745  1242.032486   2348.095779   \n",
       "min        1.000000  1990.000000  1120.000000  4550.000000   6100.000000   \n",
       "25%        3.750000  2460.000000  1305.000000  4862.500000   8015.000000   \n",
       "50%        6.500000  2830.000000  1527.500000  5530.000000   9090.000000   \n",
       "75%        9.250000  3435.000000  1765.000000  6400.000000  10045.000000   \n",
       "max       12.000000  3700.000000  2100.000000  8300.000000  14400.000000   \n",
       "\n",
       "           shampoo  moisturizer  total_units   total_profit  \n",
       "count    12.000000    12.000000     12.00000      12.000000  \n",
       "mean   2117.500000  1542.916667  26027.50000  260275.000000  \n",
       "std     617.724931   316.733745   7014.36594   70143.659404  \n",
       "min    1200.000000  1120.000000  18330.00000  183300.000000  \n",
       "25%    1795.000000  1305.000000  21065.00000  210650.000000  \n",
       "50%    1995.000000  1527.500000  22935.00000  229350.000000  \n",
       "75%    2325.000000  1765.000000  29667.50000  296675.000000  \n",
       "max    3550.000000  2100.000000  41280.00000  412800.000000  "
      ]
     },
     "execution_count": 36,
     "metadata": {},
     "output_type": "execute_result"
    }
   ],
   "source": [
    "data2.describe()  #  provides a statistical summary"
   ]
  },
  {
   "cell_type": "code",
   "execution_count": 37,
   "id": "066224fc",
   "metadata": {
    "execution": {
     "iopub.execute_input": "2024-10-10T12:23:15.712268Z",
     "iopub.status.busy": "2024-10-10T12:23:15.711189Z",
     "iopub.status.idle": "2024-10-10T12:23:15.725125Z",
     "shell.execute_reply": "2024-10-10T12:23:15.723935Z"
    },
    "papermill": {
     "duration": 0.038194,
     "end_time": "2024-10-10T12:23:15.727609",
     "exception": false,
     "start_time": "2024-10-10T12:23:15.689415",
     "status": "completed"
    },
    "tags": []
   },
   "outputs": [
    {
     "data": {
      "text/html": [
       "<div>\n",
       "<style scoped>\n",
       "    .dataframe tbody tr th:only-of-type {\n",
       "        vertical-align: middle;\n",
       "    }\n",
       "\n",
       "    .dataframe tbody tr th {\n",
       "        vertical-align: top;\n",
       "    }\n",
       "\n",
       "    .dataframe thead th {\n",
       "        text-align: right;\n",
       "    }\n",
       "</style>\n",
       "<table border=\"1\" class=\"dataframe\">\n",
       "  <thead>\n",
       "    <tr style=\"text-align: right;\">\n",
       "      <th></th>\n",
       "      <th>month_number</th>\n",
       "      <th>toothpaste</th>\n",
       "      <th>shampoo</th>\n",
       "    </tr>\n",
       "  </thead>\n",
       "  <tbody>\n",
       "    <tr>\n",
       "      <th>0</th>\n",
       "      <td>1</td>\n",
       "      <td>5200</td>\n",
       "      <td>1200</td>\n",
       "    </tr>\n",
       "    <tr>\n",
       "      <th>1</th>\n",
       "      <td>2</td>\n",
       "      <td>5100</td>\n",
       "      <td>2100</td>\n",
       "    </tr>\n",
       "    <tr>\n",
       "      <th>2</th>\n",
       "      <td>3</td>\n",
       "      <td>4550</td>\n",
       "      <td>3550</td>\n",
       "    </tr>\n",
       "    <tr>\n",
       "      <th>3</th>\n",
       "      <td>4</td>\n",
       "      <td>5870</td>\n",
       "      <td>1870</td>\n",
       "    </tr>\n",
       "    <tr>\n",
       "      <th>4</th>\n",
       "      <td>5</td>\n",
       "      <td>4560</td>\n",
       "      <td>1560</td>\n",
       "    </tr>\n",
       "    <tr>\n",
       "      <th>5</th>\n",
       "      <td>6</td>\n",
       "      <td>4890</td>\n",
       "      <td>1890</td>\n",
       "    </tr>\n",
       "    <tr>\n",
       "      <th>6</th>\n",
       "      <td>7</td>\n",
       "      <td>4780</td>\n",
       "      <td>1780</td>\n",
       "    </tr>\n",
       "    <tr>\n",
       "      <th>7</th>\n",
       "      <td>8</td>\n",
       "      <td>5860</td>\n",
       "      <td>2860</td>\n",
       "    </tr>\n",
       "    <tr>\n",
       "      <th>8</th>\n",
       "      <td>9</td>\n",
       "      <td>6100</td>\n",
       "      <td>2100</td>\n",
       "    </tr>\n",
       "    <tr>\n",
       "      <th>9</th>\n",
       "      <td>10</td>\n",
       "      <td>8300</td>\n",
       "      <td>2300</td>\n",
       "    </tr>\n",
       "    <tr>\n",
       "      <th>10</th>\n",
       "      <td>11</td>\n",
       "      <td>7300</td>\n",
       "      <td>2400</td>\n",
       "    </tr>\n",
       "    <tr>\n",
       "      <th>11</th>\n",
       "      <td>12</td>\n",
       "      <td>7400</td>\n",
       "      <td>1800</td>\n",
       "    </tr>\n",
       "  </tbody>\n",
       "</table>\n",
       "</div>"
      ],
      "text/plain": [
       "    month_number  toothpaste  shampoo\n",
       "0              1        5200     1200\n",
       "1              2        5100     2100\n",
       "2              3        4550     3550\n",
       "3              4        5870     1870\n",
       "4              5        4560     1560\n",
       "5              6        4890     1890\n",
       "6              7        4780     1780\n",
       "7              8        5860     2860\n",
       "8              9        6100     2100\n",
       "9             10        8300     2300\n",
       "10            11        7300     2400\n",
       "11            12        7400     1800"
      ]
     },
     "execution_count": 37,
     "metadata": {},
     "output_type": "execute_result"
    }
   ],
   "source": [
    "data2[['month_number', 'toothpaste', 'shampoo']]\n"
   ]
  },
  {
   "cell_type": "code",
   "execution_count": 38,
   "id": "9b5b75ab",
   "metadata": {
    "execution": {
     "iopub.execute_input": "2024-10-10T12:23:15.771274Z",
     "iopub.status.busy": "2024-10-10T12:23:15.770156Z",
     "iopub.status.idle": "2024-10-10T12:23:15.779313Z",
     "shell.execute_reply": "2024-10-10T12:23:15.778133Z"
    },
    "papermill": {
     "duration": 0.033859,
     "end_time": "2024-10-10T12:23:15.781922",
     "exception": false,
     "start_time": "2024-10-10T12:23:15.748063",
     "status": "completed"
    },
    "tags": []
   },
   "outputs": [
    {
     "data": {
      "text/plain": [
       "month_number         1\n",
       "facecream         2500\n",
       "facewash          1500\n",
       "toothpaste        5200\n",
       "bathingsoap       9200\n",
       "shampoo           1200\n",
       "moisturizer       1500\n",
       "total_units      21100\n",
       "total_profit    211000\n",
       "Name: 0, dtype: int64"
      ]
     },
     "execution_count": 38,
     "metadata": {},
     "output_type": "execute_result"
    }
   ],
   "source": [
    "data2.iloc[0]   # gives data at row index 0"
   ]
  },
  {
   "cell_type": "code",
   "execution_count": 39,
   "id": "694022d7",
   "metadata": {
    "execution": {
     "iopub.execute_input": "2024-10-10T12:23:15.826829Z",
     "iopub.status.busy": "2024-10-10T12:23:15.825910Z",
     "iopub.status.idle": "2024-10-10T12:23:15.839160Z",
     "shell.execute_reply": "2024-10-10T12:23:15.838051Z"
    },
    "papermill": {
     "duration": 0.038503,
     "end_time": "2024-10-10T12:23:15.841777",
     "exception": false,
     "start_time": "2024-10-10T12:23:15.803274",
     "status": "completed"
    },
    "tags": []
   },
   "outputs": [
    {
     "data": {
      "text/html": [
       "<div>\n",
       "<style scoped>\n",
       "    .dataframe tbody tr th:only-of-type {\n",
       "        vertical-align: middle;\n",
       "    }\n",
       "\n",
       "    .dataframe tbody tr th {\n",
       "        vertical-align: top;\n",
       "    }\n",
       "\n",
       "    .dataframe thead th {\n",
       "        text-align: right;\n",
       "    }\n",
       "</style>\n",
       "<table border=\"1\" class=\"dataframe\">\n",
       "  <thead>\n",
       "    <tr style=\"text-align: right;\">\n",
       "      <th></th>\n",
       "      <th>month_number</th>\n",
       "      <th>facecream</th>\n",
       "      <th>facewash</th>\n",
       "      <th>toothpaste</th>\n",
       "      <th>bathingsoap</th>\n",
       "      <th>shampoo</th>\n",
       "      <th>moisturizer</th>\n",
       "      <th>total_units</th>\n",
       "      <th>total_profit</th>\n",
       "    </tr>\n",
       "  </thead>\n",
       "  <tbody>\n",
       "    <tr>\n",
       "      <th>1</th>\n",
       "      <td>2</td>\n",
       "      <td>2630</td>\n",
       "      <td>1200</td>\n",
       "      <td>5100</td>\n",
       "      <td>6100</td>\n",
       "      <td>2100</td>\n",
       "      <td>1200</td>\n",
       "      <td>18330</td>\n",
       "      <td>183300</td>\n",
       "    </tr>\n",
       "    <tr>\n",
       "      <th>2</th>\n",
       "      <td>3</td>\n",
       "      <td>2140</td>\n",
       "      <td>1340</td>\n",
       "      <td>4550</td>\n",
       "      <td>9550</td>\n",
       "      <td>3550</td>\n",
       "      <td>1340</td>\n",
       "      <td>22470</td>\n",
       "      <td>224700</td>\n",
       "    </tr>\n",
       "  </tbody>\n",
       "</table>\n",
       "</div>"
      ],
      "text/plain": [
       "   month_number  facecream  facewash  toothpaste  bathingsoap  shampoo  \\\n",
       "1             2       2630      1200        5100         6100     2100   \n",
       "2             3       2140      1340        4550         9550     3550   \n",
       "\n",
       "   moisturizer  total_units  total_profit  \n",
       "1         1200        18330        183300  \n",
       "2         1340        22470        224700  "
      ]
     },
     "execution_count": 39,
     "metadata": {},
     "output_type": "execute_result"
    }
   ],
   "source": [
    "data2.iloc[1:3]  # to select a subset of rows(excluding row index 3)"
   ]
  },
  {
   "cell_type": "markdown",
   "id": "9b414c4f",
   "metadata": {
    "papermill": {
     "duration": 0.021548,
     "end_time": "2024-10-10T12:23:15.884417",
     "exception": false,
     "start_time": "2024-10-10T12:23:15.862869",
     "status": "completed"
    },
    "tags": []
   },
   "source": [
    "DEALING WITH DUPLICATES AND MISSING DATA"
   ]
  },
  {
   "cell_type": "code",
   "execution_count": 40,
   "id": "6290e2e3",
   "metadata": {
    "execution": {
     "iopub.execute_input": "2024-10-10T12:23:15.930135Z",
     "iopub.status.busy": "2024-10-10T12:23:15.929116Z",
     "iopub.status.idle": "2024-10-10T12:23:15.970868Z",
     "shell.execute_reply": "2024-10-10T12:23:15.969790Z"
    },
    "papermill": {
     "duration": 0.067072,
     "end_time": "2024-10-10T12:23:15.973660",
     "exception": false,
     "start_time": "2024-10-10T12:23:15.906588",
     "status": "completed"
    },
    "tags": []
   },
   "outputs": [
    {
     "name": "stdout",
     "output_type": "stream",
     "text": [
      "Original DataFrame 1:\n",
      "   id  value\n",
      "0   1   10.0\n",
      "1   2   20.0\n",
      "2   3    NaN\n",
      "3   4   40.0\n",
      "4   5   50.0\n",
      "5   6    NaN\n",
      "6   7   70.0\n",
      "\n",
      "Original DataFrame 2:\n",
      "   id  value\n",
      "0   4    400\n",
      "1   5    500\n",
      "2   6    600\n",
      "3   7    700\n",
      "4   8    800\n",
      "\n",
      "DataFrame 1 after dropping NaN values:\n",
      "   id  value\n",
      "0   1   10.0\n",
      "1   2   20.0\n",
      "3   4   40.0\n",
      "4   5   50.0\n",
      "6   7   70.0\n",
      "\n",
      "DataFrame 1 after filling NaN values with 0:\n",
      "   id  value\n",
      "0   1   10.0\n",
      "1   2   20.0\n",
      "2   3    0.0\n",
      "3   4   40.0\n",
      "4   5   50.0\n",
      "5   6    0.0\n",
      "6   7   70.0\n",
      "\n",
      "Copied DataFrame:\n",
      "   id  value\n",
      "0   1   10.0\n",
      "1   2   20.0\n",
      "2   3    NaN\n",
      "3   4   40.0\n",
      "4   5   50.0\n",
      "5   6    NaN\n",
      "6   7   70.0\n",
      "\n",
      "DataFrame 1 with a duplicate row:\n",
      "   id  value\n",
      "0   1   10.0\n",
      "1   2   20.0\n",
      "2   3    NaN\n",
      "3   4   40.0\n",
      "4   5   50.0\n",
      "5   6    NaN\n",
      "6   7   70.0\n",
      "7   2   20.0\n",
      "\n",
      "DataFrame 1 after dropping duplicates:\n",
      "   id  value\n",
      "0   1   10.0\n",
      "1   2   20.0\n",
      "2   3    NaN\n",
      "3   4   40.0\n",
      "4   5   50.0\n",
      "5   6    NaN\n",
      "6   7   70.0\n",
      "\n",
      "Merged DataFrame:\n",
      "   id  value_df1  value_df2\n",
      "0   1       10.0        NaN\n",
      "1   2       20.0        NaN\n",
      "2   3        NaN        NaN\n",
      "3   4       40.0      400.0\n",
      "4   5       50.0      500.0\n",
      "5   6        NaN      600.0\n",
      "6   7       70.0      700.0\n",
      "7   8        NaN      800.0\n"
     ]
    }
   ],
   "source": [
    "import pandas as pd\n",
    "import numpy as np\n",
    "\n",
    "# Sample DataFrames\n",
    "dat1 = {\n",
    "    'id': [1, 2, 3, 4, 5, 6, 7],\n",
    "    'value': [10, 20, np.nan, 40, 50, np.nan, 70]\n",
    "}\n",
    "\n",
    "dat2 = {\n",
    "    'id': [4, 5, 6, 7, 8],\n",
    "    'value': [400, 500, 600, 700, 800]\n",
    "}\n",
    "\n",
    "# Create DataFrames\n",
    "df1 = pd.DataFrame(dat1)\n",
    "df2 = pd.DataFrame(dat2)\n",
    "\n",
    "# Display the original DataFrames\n",
    "print(\"Original DataFrame 1:\")\n",
    "print(df1)\n",
    "print(\"\\nOriginal DataFrame 2:\")\n",
    "print(df2)\n",
    "\n",
    "# Handling Missing Values\n",
    "# 1. Dropping rows with any missing values\n",
    "df1_dropped = df1.dropna()\n",
    "print(\"\\nDataFrame 1 after dropping NaN values:\")\n",
    "print(df1_dropped)\n",
    "\n",
    "# 2. Filling missing values with a specified value (e.g., 0)\n",
    "df1_filled = df1.fillna(0)\n",
    "print(\"\\nDataFrame 1 after filling NaN values with 0:\")\n",
    "print(df1_filled)\n",
    "\n",
    "# Making a copy of the DataFrame\n",
    "df1_copy = df1.copy()\n",
    "print(\"\\nCopied DataFrame:\")\n",
    "print(df1_copy)\n",
    "\n",
    "# Handling Duplicates\n",
    "# Let's create a duplicate row for demonstration\n",
    "df1 = pd.concat([df1, df1.iloc[[1]]], ignore_index=True) # Adding a duplicate row\n",
    "print(\"\\nDataFrame 1 with a duplicate row:\")\n",
    "print(df1)\n",
    "\n",
    "# Dropping duplicate rows\n",
    "df1_no_duplicates = df1.drop_duplicates()\n",
    "print(\"\\nDataFrame 1 after dropping duplicates:\")\n",
    "print(df1_no_duplicates)\n",
    "\n",
    "# Merging DataFrames\n",
    "merged_df = pd.merge(df1_no_duplicates, df2, on='id', how='outer', suffixes=('_df1', '_df2'))\n",
    "print(\"\\nMerged DataFrame:\")\n",
    "print(merged_df)\n"
   ]
  },
  {
   "cell_type": "code",
   "execution_count": null,
   "id": "c6058d27",
   "metadata": {
    "papermill": {
     "duration": 0.021275,
     "end_time": "2024-10-10T12:23:16.016283",
     "exception": false,
     "start_time": "2024-10-10T12:23:15.995008",
     "status": "completed"
    },
    "tags": []
   },
   "outputs": [],
   "source": []
  }
 ],
 "metadata": {
  "kaggle": {
   "accelerator": "none",
   "dataSources": [
    {
     "datasetId": 5851246,
     "sourceId": 9592998,
     "sourceType": "datasetVersion"
    }
   ],
   "dockerImageVersionId": 30786,
   "isGpuEnabled": false,
   "isInternetEnabled": false,
   "language": "python",
   "sourceType": "notebook"
  },
  "kernelspec": {
   "display_name": "Python 3",
   "language": "python",
   "name": "python3"
  },
  "language_info": {
   "codemirror_mode": {
    "name": "ipython",
    "version": 3
   },
   "file_extension": ".py",
   "mimetype": "text/x-python",
   "name": "python",
   "nbconvert_exporter": "python",
   "pygments_lexer": "ipython3",
   "version": "3.10.14"
  },
  "papermill": {
   "default_parameters": {},
   "duration": 9.175544,
   "end_time": "2024-10-10T12:23:16.759467",
   "environment_variables": {},
   "exception": null,
   "input_path": "__notebook__.ipynb",
   "output_path": "__notebook__.ipynb",
   "parameters": {},
   "start_time": "2024-10-10T12:23:07.583923",
   "version": "2.6.0"
  }
 },
 "nbformat": 4,
 "nbformat_minor": 5
}
